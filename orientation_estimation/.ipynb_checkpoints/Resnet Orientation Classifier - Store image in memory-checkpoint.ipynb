{
 "cells": [
  {
   "cell_type": "markdown",
   "metadata": {},
   "source": [
    "# Imports"
   ]
  },
  {
   "cell_type": "code",
   "execution_count": 1,
   "metadata": {},
   "outputs": [],
   "source": [
    "%load_ext autoreload\n",
    "%autoreload 2"
   ]
  },
  {
   "cell_type": "code",
   "execution_count": 2,
   "metadata": {},
   "outputs": [],
   "source": [
    "# General\n",
    "import os\n",
    "import sys\n",
    "import cv2\n",
    "import glob\n",
    "import json\n",
    "import pickle\n",
    "import pandas as pd\n",
    "import numpy as np\n",
    "from datetime import datetime\n",
    "\n",
    "# Plotting\n",
    "import seaborn as sns\n",
    "import matplotlib.pyplot as plt\n",
    "import matplotlib.patches as mpatches\n",
    "sns.set(style=\"ticks\")\n",
    "plt.rcParams[\"font.family\"] = \"Arial\"\n",
    "\n",
    "# Pytorch\n",
    "import torch\n",
    "import torchvision\n",
    "import torch.nn as nn\n",
    "import torchvision.models\n",
    "import torch.optim as optim\n",
    "import torchvision.transforms as transforms\n",
    "from torchvision.datasets import MNIST\n",
    "from torchvision.utils import make_grid\n",
    "from torch.utils.data import Dataset, DataLoader\n",
    "from torch.utils.data.sampler import SubsetRandomSampler"
   ]
  },
  {
   "cell_type": "code",
   "execution_count": 3,
   "metadata": {},
   "outputs": [
    {
     "data": {
      "text/plain": [
       "<Figure size 432x288 with 0 Axes>"
      ]
     },
     "metadata": {},
     "output_type": "display_data"
    }
   ],
   "source": [
    "sns.despine(top=True, right=True, left=False, bottom=False)\n"
   ]
  },
  {
   "cell_type": "code",
   "execution_count": 4,
   "metadata": {},
   "outputs": [],
   "source": [
    "# Import other python files\n",
    "sys.path.append('../')\n",
    "import modules.Utils as Utils\n",
    "import modules.DataHandler as DataHandler\n",
    "import modules.DataSamplers as DataSamplers\n",
    "import modules.EvaluationUtils as Evaluation"
   ]
  },
  {
   "cell_type": "markdown",
   "metadata": {},
   "source": [
    "# Dataset & transforms"
   ]
  },
  {
   "cell_type": "code",
   "execution_count": 31,
   "metadata": {},
   "outputs": [
    {
     "data": {
      "text/plain": [
       "True"
      ]
     },
     "execution_count": 31,
     "metadata": {},
     "output_type": "execute_result"
    }
   ],
   "source": [
    "root_path = '../data/training_data/orientation_estimator'\n",
    "os.path.exists(root_path)"
   ]
  },
  {
   "cell_type": "code",
   "execution_count": 32,
   "metadata": {},
   "outputs": [
    {
     "data": {
      "text/plain": [
       "32.541754"
      ]
     },
     "execution_count": 32,
     "metadata": {},
     "output_type": "execute_result"
    }
   ],
   "source": [
    "annotations_df.iloc[0]['theta']"
   ]
  },
  {
   "cell_type": "code",
   "execution_count": null,
   "metadata": {},
   "outputs": [],
   "source": []
  },
  {
   "cell_type": "code",
   "execution_count": 41,
   "metadata": {},
   "outputs": [],
   "source": [
    "class BeeDataset(Dataset):\n",
    "    '''\n",
    "    Always apply baseline transforms; augmentations optional.\n",
    "    '''\n",
    "    def __init__(self, root_path, baseline_transforms, augment_transforms=None, mode='train'):\n",
    "        # Mode for usage of this class\n",
    "        self.mode = mode\n",
    "\n",
    "        # Paths\n",
    "        self.root_path = root_path\n",
    "\n",
    "        # Transforms\n",
    "        self.baseline_transforms = baseline_transforms\n",
    "        self.augment_transforms = augment_transforms\n",
    "        \n",
    "        # Setups\n",
    "        self.store_imgs()\n",
    "        self.prep_data()\n",
    "        self.process_annotations()\n",
    "    \n",
    "    def process_annotations(self):\n",
    "        self.annotations_df = pd.read_table(os.path.join(root_path, 'annotations.txt'), delim_whitespace=True)\n",
    "        \n",
    "    \n",
    "    def store_imgs(self):\n",
    "        self.img_paths = sorted(glob.glob(f\"{os.path.join(self.root_path)}/*.png\"))\n",
    "        \n",
    "        # Create collection of images\n",
    "        self.all_imgs = []\n",
    "        for path in self.img_paths:\n",
    "            img = cv2.imread(path, 0)\n",
    "            self.all_imgs.append(img)\n",
    "        \n",
    "    def prep_data(self):\n",
    "        self.img_dim = self.all_imgs[0].shape[:2]\n",
    "        self.img_c = self.all_imgs[0][..., np.newaxis].shape[-1]\n",
    "        \n",
    "    def __getitem__(self, idx):\n",
    "        img = self.all_imgs[idx][..., np.newaxis]\n",
    "        \n",
    "        label_theta = self.annotations_df.iloc[idx]['theta']\n",
    "        head_x = self.annotations_df.iloc[idx]['head_x']\n",
    "        head_y = self.annotations_df.iloc[idx]['head_y']\n",
    "        tail_x = self.annotations_df.iloc[idx]['tail_x']\n",
    "        tail_y = self.annotations_df.iloc[idx]['tail_y']       \n",
    "\n",
    "        # Apply optinal augmentation transforms\n",
    "        if self.augment_transforms is not None:\n",
    "            img = self.augment_transforms(img)\n",
    "        # For all, apply baseline transforms\n",
    "        if self.baseline_transforms is not None:\n",
    "            img = self.baseline_transforms(img)\n",
    "\n",
    "        return img, label_theta, head_x, head_y, tail_x, tail_y\n",
    "    \n",
    "    def __len__(self):\n",
    "        total_num_imgs = len(self.all_imgs)"
   ]
  },
  {
   "cell_type": "code",
   "execution_count": 42,
   "metadata": {},
   "outputs": [],
   "source": [
    "baseline_transforms = transforms.Compose([transforms.ToTensor()])"
   ]
  },
  {
   "cell_type": "code",
   "execution_count": 43,
   "metadata": {
    "scrolled": true
   },
   "outputs": [],
   "source": [
    "bee_data = BeeDataset(root_path, baseline_transforms, augment_transforms=None, mode='train')"
   ]
  },
  {
   "cell_type": "code",
   "execution_count": 44,
   "metadata": {
    "scrolled": true
   },
   "outputs": [
    {
     "data": {
      "text/plain": [
       "185"
      ]
     },
     "execution_count": 44,
     "metadata": {},
     "output_type": "execute_result"
    }
   ],
   "source": [
    "num_imgs = len(bee_data.all_imgs)\n",
    "num_imgs"
   ]
  },
  {
   "cell_type": "code",
   "execution_count": 45,
   "metadata": {},
   "outputs": [
    {
     "data": {
      "text/plain": [
       "'../data/training_data/orientation_estimator/crop_000.png'"
      ]
     },
     "execution_count": 45,
     "metadata": {},
     "output_type": "execute_result"
    }
   ],
   "source": [
    "bee_data.img_paths[0]"
   ]
  },
  {
   "cell_type": "code",
   "execution_count": 52,
   "metadata": {
    "scrolled": true
   },
   "outputs": [
    {
     "data": {
      "image/png": "[encoded data removed]",
      "text/plain": [
       "<Figure size 432x288 with 1 Axes>"
      ]
     },
     "metadata": {},
     "output_type": "display_data"
    }
   ],
   "source": [
    "idx = 17\n",
    "plt.imshow(bee_data.all_imgs[idx])\n",
    "plt.title(bee_data.annotations_df.iloc[idx]['theta']);"
   ]
  },
  {
   "cell_type": "markdown",
   "metadata": {},
   "source": [
    "# Data split & loader"
   ]
  },
  {
   "cell_type": "code",
   "execution_count": 53,
   "metadata": {},
   "outputs": [],
   "source": [
    "RANDOM_SEED = 5 #42   #100"
   ]
  },
  {
   "cell_type": "code",
   "execution_count": 54,
   "metadata": {},
   "outputs": [],
   "source": [
    "def train_val_test_split(bee_data, num_imgs, test_split=0.2, val_split=0.1):\n",
    "    dev_split = 1 - test_split\n",
    "    train_split = 1 - val_split\n",
    "\n",
    "    img_idxs = np.arange(0, len(bee_data.all_imgs), 1)\n",
    "    np.random.shuffle(img_idxs)\n",
    "    \n",
    "    # Split to dev and test\n",
    "    num_dev_examples = int(len(img_idxs) * dev_split)\n",
    "    dev_idxs = img_idxs[:num_dev_examples]\n",
    "    test_idxs = img_idxs[num_dev_examples:]\n",
    "    \n",
    "    # Split dev into train and val\n",
    "    num_train_examples = int(len(dev_idxs) * train_split)\n",
    "    train_idxs = dev_idxs[:num_train_examples]\n",
    "    val_idxs = dev_idxs[num_train_examples:]\n",
    "    \n",
    "    # Make sure no duplicates & sum up: 0 and True\n",
    "    check_1 = np.in1d(train_idxs, val_idxs).sum()\n",
    "    check_2 = np.in1d(train_idxs, test_idxs).sum()\n",
    "    check_3 = num_train_examples+len(val_idxs)+len(test_idxs) == num_imgs\n",
    "    print(check_1, check_2, check_3)\n",
    "    return train_idxs, val_idxs, test_idxs"
   ]
  },
  {
   "cell_type": "code",
   "execution_count": 57,
   "metadata": {},
   "outputs": [
    {
     "name": "stdout",
     "output_type": "stream",
     "text": [
      "0 0 True\n"
     ]
    }
   ],
   "source": [
    "np.random.seed(RANDOM_SEED)\n",
    "LOAD_IDXS = False\n",
    "df_path = os.path.join(root_path, f'orient_train_val_test_idxs.pt')\n",
    "\n",
    "if LOAD_IDXS:\n",
    "    save_df_split_dict = torch.load(df_path)\n",
    "    train_idxs = save_df_split_dict['train_idxs']\n",
    "    val_idxs = save_df_split_dict['val_idxs']\n",
    "    test_idxs = save_df_split_dict['test_idxs']\n",
    "else:\n",
    "    train_idxs, val_idxs, test_idxs = train_val_test_split(bee_data, num_imgs, test_split=0.2, val_split=0.1)\n",
    "    save_df_split_dict = {\"train_idxs\": train_idxs, \"val_idxs\": val_idxs, \"test_idxs\": test_idxs}\n",
    "    # Save split indices to use later\n",
    "    df_path = os.path.join(root_path, f'orient_train_val_test_idxs.pt')\n",
    "    torch.save(save_df_split_dict, df_path)"
   ]
  },
  {
   "cell_type": "code",
   "execution_count": 58,
   "metadata": {},
   "outputs": [
    {
     "data": {
      "text/plain": [
       "(array([ 25,   6, 149, 102, 101, 123,  62,  50, 140,   3, 159, 141,  28,\n",
       "         39,  87,  53, 122,  26,  21,  17,  46,  74,  54,  48,  88, 127,\n",
       "         98, 170, 173, 184, 120, 134,  89,  95,  42,  97,  23,   1, 152,\n",
       "         40,  61, 165, 181,  43, 133,  96, 139, 147,  51,  66, 136,  55,\n",
       "         71,  12, 116,  56, 175, 163,  19,  57, 145, 150, 154, 169,  63,\n",
       "        128,  77,  15, 115,  10,  81,  84, 162,  36,   4,  83, 157,  93,\n",
       "         92, 166, 119, 114,  72,  49,  20,  35,  70,  79,  29,  60, 117,\n",
       "         69,  52,  22, 111,  75, 142,  37, 178,  90, 180,  64, 167, 168,\n",
       "        176, 160, 156,  82, 164, 126, 130, 138, 171,  76,  32, 161, 104,\n",
       "        107, 183,  13,  24,  59,  45,  34, 177, 179,  47, 148,   9, 151,\n",
       "         14,  94,  16]),\n",
       " array([ 85,  33,  78,  91, 131, 124,  67,  11, 109, 108, 100, 135, 174,\n",
       "         18, 153]),\n",
       " array([ 38,  68,   2,  31, 172, 105, 110, 132,   0,  58,   5, 182, 103,\n",
       "        129,  41, 106, 137, 121, 146, 125,  86,  30,  65,  44,  27,  80,\n",
       "        113, 143,   7, 158, 112, 155,   8,  73, 144, 118,  99]))"
      ]
     },
     "execution_count": 58,
     "metadata": {},
     "output_type": "execute_result"
    }
   ],
   "source": [
    "train_idxs, val_idxs, test_idxs"
   ]
  },
  {
   "cell_type": "markdown",
   "metadata": {},
   "source": [
    "## Data sampling "
   ]
  },
  {
   "cell_type": "code",
   "execution_count": 106,
   "metadata": {},
   "outputs": [],
   "source": [
    "SHUFFLE = True\n",
    "BATCH_SIZE = 8"
   ]
  },
  {
   "cell_type": "code",
   "execution_count": 107,
   "metadata": {},
   "outputs": [],
   "source": [
    "np.random.seed(RANDOM_SEED)\n",
    "torch.manual_seed(RANDOM_SEED)\n",
    "sampler_train = SubsetRandomSampler(train_idxs)"
   ]
  },
  {
   "cell_type": "code",
   "execution_count": 108,
   "metadata": {},
   "outputs": [],
   "source": [
    "np.random.seed(RANDOM_SEED)\n",
    "torch.manual_seed(RANDOM_SEED)\n",
    "sampler_val = DataSamplers.SubsetIdentitySampler(indices=val_idxs)\n",
    "sampler_test = DataSamplers.SubsetIdentitySampler(indices=test_idxs)"
   ]
  },
  {
   "cell_type": "markdown",
   "metadata": {},
   "source": [
    "## Data loaders"
   ]
  },
  {
   "cell_type": "code",
   "execution_count": 109,
   "metadata": {},
   "outputs": [],
   "source": [
    "np.random.seed(RANDOM_SEED)\n",
    "torch.manual_seed(RANDOM_SEED)\n",
    "\n",
    "train_loader = DataLoader(bee_data, batch_size=BATCH_SIZE, sampler=sampler_train, drop_last=True)\n",
    "val_loader = DataLoader(bee_data, batch_size=BATCH_SIZE, sampler=sampler_val, drop_last=True)\n",
    "test_loader = DataLoader(bee_data, batch_size=BATCH_SIZE, sampler=sampler_test, drop_last=True)\n"
   ]
  },
  {
   "cell_type": "code",
   "execution_count": 110,
   "metadata": {},
   "outputs": [
    {
     "data": {
      "text/plain": [
       "(16, 1, 4)"
      ]
     },
     "execution_count": 110,
     "metadata": {},
     "output_type": "execute_result"
    }
   ],
   "source": [
    "len(train_loader), len(val_loader), len(test_loader)"
   ]
  },
  {
   "cell_type": "code",
   "execution_count": 113,
   "metadata": {},
   "outputs": [
    {
     "data": {
      "image/png": "[encoded data removed]",
      "text/plain": [
       "<Figure size 432x432 with 1 Axes>"
      ]
     },
     "metadata": {},
     "output_type": "display_data"
    }
   ],
   "source": [
    "np.random.seed(RANDOM_SEED)\n",
    "torch.manual_seed(RANDOM_SEED)\n",
    "\n",
    "plt.figure(figsize=(6,6))\n",
    "for i, (X_, y_, head_x, head_y, tail_x, tail_y) in enumerate(val_loader):\n",
    "    X_, y_ = Utils.shuffle_batch(X_, y_)\n",
    "#     print(X_)\n",
    "    \n",
    "plt.imshow(make_grid(X_, padding=3).permute(1,2,0))\n",
    "# plt.title(list(y_))\n",
    "plt.show()\n"
   ]
  },
  {
   "cell_type": "markdown",
   "metadata": {},
   "source": [
    "# Model"
   ]
  },
  {
   "cell_type": "code",
   "execution_count": 114,
   "metadata": {},
   "outputs": [],
   "source": [
    "NUM_CLASSES = 1"
   ]
  },
  {
   "cell_type": "code",
   "execution_count": 115,
   "metadata": {},
   "outputs": [],
   "source": [
    "class CustomLastLayer(nn.Module):\n",
    "    def __init__(self):\n",
    "        super().__init__()\n",
    "        self.activation = nn.Sigmoid()\n",
    "        \n",
    "    def forward(self, x):\n",
    "        out = self.activation(x)\n",
    "        out = out * 2.0 * np.pi\n",
    "        return out"
   ]
  },
  {
   "cell_type": "code",
   "execution_count": 116,
   "metadata": {},
   "outputs": [],
   "source": [
    "def build_resnet(num_classes):\n",
    "    print(f\"Building resnet-18 with {num_classes} class(es).\")\n",
    "    resnet = torchvision.models.resnet18(pretrained=True)\n",
    "    num_ftrs = resnet.fc.in_features\n",
    "    # resnet.fc = nn.Linear(num_ftrs, num_classes)\n",
    "    \n",
    "    resnet.fc = nn.Sequential(\n",
    "#         nn.Dropout(0.5),\n",
    "        nn.Linear(num_ftrs, num_classes),\n",
    "        CustomLastLayer()\n",
    "    )\n",
    "    \n",
    "    return resnet"
   ]
  },
  {
   "cell_type": "code",
   "execution_count": 117,
   "metadata": {},
   "outputs": [],
   "source": [
    "use_resnet = True"
   ]
  },
  {
   "cell_type": "code",
   "execution_count": 118,
   "metadata": {},
   "outputs": [
    {
     "name": "stdout",
     "output_type": "stream",
     "text": [
      "Building resnet-18 with 1 class(es).\n"
     ]
    }
   ],
   "source": [
    "np.random.seed(RANDOM_SEED)\n",
    "torch.manual_seed(RANDOM_SEED)\n",
    "\n",
    "if use_resnet:\n",
    "    model = build_resnet(NUM_CLASSES)\n",
    "else:\n",
    "    model = Net(n_channels=1, n_classes=1, drop_prob=0.5)"
   ]
  },
  {
   "cell_type": "markdown",
   "metadata": {},
   "source": [
    "# Check for GPU"
   ]
  },
  {
   "cell_type": "code",
   "execution_count": 119,
   "metadata": {},
   "outputs": [
    {
     "data": {
      "text/plain": [
       "device(type='cpu')"
      ]
     },
     "execution_count": 119,
     "metadata": {},
     "output_type": "execute_result"
    }
   ],
   "source": [
    "device = torch.device(\"cuda\" if torch.cuda.is_available() else \"cpu\")\n",
    "device"
   ]
  },
  {
   "cell_type": "code",
   "execution_count": 120,
   "metadata": {},
   "outputs": [],
   "source": [
    "model.to(device);"
   ]
  },
  {
   "cell_type": "markdown",
   "metadata": {},
   "source": [
    "# Loss & optimizer"
   ]
  },
  {
   "cell_type": "code",
   "execution_count": 121,
   "metadata": {},
   "outputs": [],
   "source": [
    "LEARNING_RATE = 0.000001 #0.000005"
   ]
  },
  {
   "cell_type": "code",
   "execution_count": 122,
   "metadata": {},
   "outputs": [],
   "source": [
    "class CustomLoss(torch.nn.Module):\n",
    "    def __init__(self):\n",
    "        super(CustomLoss, self).__init__()\n",
    "        \n",
    "    def forward(self, pred_y, true_y):\n",
    "        term_1 = torch.sin(true_y - pred_y)\n",
    "        term_2 = torch.cos(true_y - pred_y)\n",
    "        # loss = torch.sqrt( (torch.atan2(term_1, term_2))**2 )\n",
    "        loss = (torch.atan2(term_1, term_2))**2\n",
    "        return loss.mean()"
   ]
  },
  {
   "cell_type": "code",
   "execution_count": 123,
   "metadata": {},
   "outputs": [],
   "source": [
    "np.random.seed(RANDOM_SEED)\n",
    "torch.manual_seed(RANDOM_SEED)\n",
    "\n",
    "criterion = CustomLoss()\n",
    "optimizer = optim.Adam(model.parameters(), lr=LEARNING_RATE)\n",
    "\n",
    "# criterion = nn.MSELoss()\n",
    "# optimizer = optim.SGD(model.parameters(), lr=LEARNING_RATE)"
   ]
  },
  {
   "cell_type": "markdown",
   "metadata": {},
   "source": [
    "# Check load in trained model"
   ]
  },
  {
   "cell_type": "code",
   "execution_count": 124,
   "metadata": {},
   "outputs": [],
   "source": [
    "def init_metrics():\n",
    "    metrics = {\n",
    "        \"losses\" : {\n",
    "            \"train\" : [],\n",
    "            \"val\"  : []\n",
    "        },\n",
    "        \"accs\" : {\n",
    "            \"train\" : [],\n",
    "            \"val\"  : []\n",
    "        }\n",
    "    }\n",
    "    return metrics"
   ]
  },
  {
   "cell_type": "code",
   "execution_count": 125,
   "metadata": {},
   "outputs": [
    {
     "name": "stdout",
     "output_type": "stream",
     "text": [
      "Initializing new model.\n"
     ]
    }
   ],
   "source": [
    "LOAD_MODEL = False\n",
    "load_path = '../saved_models/no_dropout_3_ok/ResnetOrientationModel_epoch4500.pt'\n",
    "\n",
    "if LOAD_MODEL:\n",
    "    print(f\"Loading model from {load_path}\")\n",
    "    load_dict = torch.load(load_path)\n",
    "    model.load_state_dict(load_dict['model'])\n",
    "    optimizer.load_state_dict(load_dict['optim'])\n",
    "    metrics = load_dict['metrics']\n",
    "    start_epoch = load_dict['epoch']\n",
    "else:\n",
    "    print(\"Initializing new model.\")\n",
    "    metrics = init_metrics()\n",
    "    start_epoch = 0"
   ]
  },
  {
   "cell_type": "markdown",
   "metadata": {},
   "source": [
    "# Save model"
   ]
  },
  {
   "cell_type": "code",
   "execution_count": 131,
   "metadata": {},
   "outputs": [],
   "source": [
    "def save_model(model, optimizer, metrics, epoch_i):\n",
    "    save_dict = {\n",
    "        'model'   : model.state_dict(),\n",
    "        'optim'   : optimizer.state_dict(),\n",
    "        'metrics' : metrics,\n",
    "        'epoch'   : epoch_i\n",
    "    }\n",
    "    torch.save(save_dict, f'saved_models/ResnetOrientationModel_epoch{epoch_i:04d}.pt')"
   ]
  },
  {
   "cell_type": "markdown",
   "metadata": {},
   "source": [
    "# Evaluation functions"
   ]
  },
  {
   "cell_type": "code",
   "execution_count": 132,
   "metadata": {},
   "outputs": [],
   "source": [
    "def get_accuracy(y, preds, tol, BATCH_SIZE):\n",
    "    xxx = (y - tol/2) <= preds\n",
    "    yyy = preds <= (y + tol/2)\n",
    "    accuracy = (xxx.view(-1) & yyy.view(-1)).sum() / float(BATCH_SIZE) * 100\n",
    "    return accuracy"
   ]
  },
  {
   "cell_type": "code",
   "execution_count": 133,
   "metadata": {},
   "outputs": [],
   "source": [
    "def evaluate(test_loader, model, criterion, device, tol, BATCH_SIZE):\n",
    "    batch_test_accs = []\n",
    "    batch_test_loss = []\n",
    "    with torch.no_grad():\n",
    "        model.eval()\n",
    "        for batch_i, (X, y, head_x, head_y, tail_x, tail_y) in enumerate(test_loader):\n",
    "        # ----------------------\n",
    "            X = Utils.convert_X_for_resnet(X)\n",
    "\n",
    "            X = X.to(device)\n",
    "            y = y.to(device)\n",
    "            \n",
    "            # Convert to float data type\n",
    "            y = y.type(torch.FloatTensor).view(-1,1)\n",
    "            y = np.deg2rad(y)  # Convert to radians\n",
    "            y = y.to(device)\n",
    "    \n",
    "            logits = model(X)\n",
    "                        \n",
    "#             #### Convert negative angles to positive (add 360 to degrees or (2*np.pi) to radians)\n",
    "#             mask = (logits < 0) * (2*np.pi)\n",
    "#             logits = logits + mask\n",
    "#             ####\n",
    "            \n",
    "            accuracy = get_accuracy(y, logits, tol, BATCH_SIZE)\n",
    "            batch_test_accs.append(accuracy.item())\n",
    "            \n",
    "            loss = criterion(logits, y)\n",
    "            batch_test_loss.append(loss.item())\n",
    "\n",
    "            # stdout\n",
    "            eval_stdout = f'\\rBatch {batch_i}/{len(test_loader)} -- Loss: {np.mean(batch_test_loss):0.8f} -- Accuracy: {np.mean(batch_test_accs):0.8f}'\n",
    "            sys.stdout.write(eval_stdout)\n",
    "            sys.stdout.flush()\n",
    "\n",
    "    mean_acc = sum(batch_test_accs) / len(batch_test_accs)\n",
    "    mean_loss = sum(batch_test_loss) / len(batch_test_loss)\n",
    "    model.train()\n",
    "    return mean_acc, mean_loss"
   ]
  },
  {
   "cell_type": "markdown",
   "metadata": {},
   "source": [
    "# Train"
   ]
  },
  {
   "cell_type": "code",
   "execution_count": 134,
   "metadata": {},
   "outputs": [
    {
     "data": {
      "text/plain": [
       "0.17453292519943295"
      ]
     },
     "execution_count": 134,
     "metadata": {},
     "output_type": "execute_result"
    }
   ],
   "source": [
    "N_EPOCHS = 1\n",
    "deg = 10\n",
    "tol = deg * np.pi/180\n",
    "tol"
   ]
  },
  {
   "cell_type": "code",
   "execution_count": 135,
   "metadata": {
    "scrolled": false
   },
   "outputs": [
    {
     "name": "stdout",
     "output_type": "stream",
     "text": [
      "Training:\n",
      "Epoch 1/1 -- Batch 15/16 -- Loss: 3.15061617 -- Train accuracy: 3.9062\n",
      "Validation:\n",
      "Batch 0/1 -- Loss: 4.82742119 -- Accuracy: 0.00000000\n",
      "\n",
      "Training:\n",
      "Epoch 2/1 -- Batch 15/16 -- Loss: 1.55827498 -- Train accuracy: 4.6875\n",
      "Validation:\n",
      "Batch 0/1 -- Loss: 4.32128143 -- Accuracy: 0.00000000\n",
      "\n",
      "CPU times: user 12.7 s, sys: 1.27 s, total: 14 s\n",
      "Wall time: 14.2 s\n"
     ]
    }
   ],
   "source": [
    "%%time\n",
    "np.random.seed(RANDOM_SEED)\n",
    "torch.manual_seed(RANDOM_SEED)\n",
    "\n",
    "try:\n",
    "    model.train()\n",
    "    for epoch_i in range(start_epoch, start_epoch+N_EPOCHS+1):\n",
    "        \n",
    "        # Training loop\n",
    "        # ------------------------------------------------\n",
    "        print(\"Training:\")\n",
    "        batch_train_losses = []\n",
    "        batch_train_accs = []\n",
    "        for batch_i, (X_, y_, head_x, head_y, tail_x, tail_y) in enumerate(train_loader):\n",
    "            X_, y_ = Utils.shuffle_batch(X_, y_)\n",
    "            X_fixed = Utils.convert_X_for_resnet(X_)\n",
    "#             X_fixed = X_\n",
    "    \n",
    "            X_fixed = X_fixed.to(device)\n",
    "            y_ = y_.to(device)\n",
    "            \n",
    "            # Convert to float data type\n",
    "            y_ = y_.type(torch.FloatTensor).view(-1,1)\n",
    "            y_ = np.deg2rad(y_)  # Convert to radians\n",
    "            y_ = y_.to(device)\n",
    "    \n",
    "            # Pass through model\n",
    "            # Logits as net's predictions\n",
    "            logits = model(X_fixed)\n",
    "\n",
    "#             # Compute loss\n",
    "#             # Convert negative angles to positive (add 360 to degrees or (2*np.pi) to radians)\n",
    "#             mask = (logits < 0) * (2*np.pi)\n",
    "#             logits = logits + mask\n",
    "            \n",
    "            \n",
    "            loss = criterion(logits, y_)\n",
    "            batch_train_losses.append(loss.item())\n",
    "\n",
    "            # Training step\n",
    "            optimizer.zero_grad()\n",
    "            loss.backward()\n",
    "            optimizer.step()\n",
    "            \n",
    "            # Get training accs within tol% error\n",
    "            with torch.no_grad():\n",
    "                xxx = (y_ - tol/2) <= logits\n",
    "                yyy = logits <= (y_ + tol/2)\n",
    "                accuracy = (xxx.view(-1) & yyy.view(-1)).sum() / float(BATCH_SIZE) * 100\n",
    "            batch_train_accs.append(accuracy.item())\n",
    "            \n",
    "            print_str = f'\\rEpoch {epoch_i+1}/{start_epoch+N_EPOCHS} -- Batch {batch_i}/{len(train_loader)}'\n",
    "            print_str += f' -- Loss: {loss.item():0.8f} -- Train accuracy: {np.mean(batch_train_accs):0.4f}'\n",
    "            sys.stdout.write(print_str)\n",
    "            sys.stdout.flush()\n",
    "            \n",
    "        metrics['losses']['train'].append((epoch_i, np.mean(batch_train_losses)))\n",
    "        metrics['accs']['train'].append((epoch_i, np.mean(batch_train_accs)))\n",
    "        # ------------------------------------------------\n",
    "\n",
    "        # Test Acc\n",
    "        print(\"\\nValidation:\")\n",
    "        with torch.no_grad():\n",
    "            test_acc, test_loss = evaluate(val_loader, model, criterion, device, tol, BATCH_SIZE)\n",
    "        metrics['accs']['val'].append((epoch_i, test_acc))\n",
    "        metrics['losses']['val'].append((epoch_i, test_loss))\n",
    "        print(\"\\n\")\n",
    "        \n",
    "        if epoch_i % 250 == 0:\n",
    "            save_model(model, optimizer, metrics, epoch_i)\n",
    "    \n",
    "#         break\n",
    "except KeyboardInterrupt:\n",
    "    save_model(model, optimizer, metrics, epoch_i)\n",
    "    print(\"\\nEnding early.\")"
   ]
  },
  {
   "cell_type": "markdown",
   "metadata": {},
   "source": [
    "# Plot training loss and accuracies"
   ]
  },
  {
   "cell_type": "code",
   "execution_count": 136,
   "metadata": {},
   "outputs": [],
   "source": [
    "epochs = np.array(metrics['losses']['train'])[::,0]\n",
    "train_losses = np.array(metrics['losses']['train'])[::,1]\n",
    "test_losses = np.array(metrics['losses']['val'])[::,1]"
   ]
  },
  {
   "cell_type": "code",
   "execution_count": 137,
   "metadata": {
    "scrolled": true
   },
   "outputs": [
    {
     "data": {
      "image/png": "[encoded data removed]",
      "text/plain": [
       "<Figure size 432x288 with 1 Axes>"
      ]
     },
     "metadata": {},
     "output_type": "display_data"
    }
   ],
   "source": [
    "plt.plot(epochs, train_losses, label='Train');\n",
    "plt.plot(epochs[:len(test_losses)], test_losses, label='Val');\n",
    "plt.title(f'Loss curves')\n",
    "plt.xlabel('Epoch')\n",
    "plt.ylabel('Loss')\n",
    "plt.legend()\n",
    "sns.despine(top=True, right=True, left=False, bottom=False)"
   ]
  },
  {
   "cell_type": "code",
   "execution_count": 138,
   "metadata": {},
   "outputs": [],
   "source": [
    "epochs = np.array(metrics['accs']['train'])[::,0]\n",
    "train_accs = np.array(metrics['accs']['train'])[::,1]\n",
    "test_accs = np.array(metrics['accs']['val'])[::,1]"
   ]
  },
  {
   "cell_type": "code",
   "execution_count": 139,
   "metadata": {},
   "outputs": [
    {
     "data": {
      "image/png": "[encoded data removed]",
      "text/plain": [
       "<Figure size 432x288 with 1 Axes>"
      ]
     },
     "metadata": {},
     "output_type": "display_data"
    }
   ],
   "source": [
    "plt.plot(epochs, train_accs, label='Train');\n",
    "plt.plot(epochs[:len(test_losses)], test_accs, label='Val');\n",
    "plt.title(f'Accuracy curves')\n",
    "plt.xlabel('Epoch')\n",
    "plt.ylabel('Accuracy (%)')\n",
    "plt.legend()\n",
    "sns.despine(top=True, right=True, left=False, bottom=False)"
   ]
  },
  {
   "cell_type": "markdown",
   "metadata": {},
   "source": [
    "# Compute accuracy with tolerance"
   ]
  },
  {
   "cell_type": "code",
   "execution_count": 140,
   "metadata": {},
   "outputs": [
    {
     "data": {
      "text/plain": [
       "(array([ 0,  5, 10, 15, 20, 25, 30]),\n",
       " array([0.        , 0.08726646, 0.17453293, 0.26179939, 0.34906585,\n",
       "        0.43633231, 0.52359878]))"
      ]
     },
     "execution_count": 140,
     "metadata": {},
     "output_type": "execute_result"
    }
   ],
   "source": [
    "tolerance_array_deg = np.arange(0, 30+1, 5)\n",
    "tolerance_array_rad = np.deg2rad(tolerance_array_deg)\n",
    "\n",
    "tolerance_array_deg, tolerance_array_rad"
   ]
  },
  {
   "cell_type": "code",
   "execution_count": 141,
   "metadata": {
    "scrolled": true
   },
   "outputs": [
    {
     "name": "stdout",
     "output_type": "stream",
     "text": [
      "Tol: 0.0 or +- 0.0\n",
      "Batch 3/4 -- Loss: 3.02645767 -- Accuracy: 0.00000000\n",
      "\n",
      "Tol: 5.0 or +- 2.5\n",
      "Batch 3/4 -- Loss: 3.02645767 -- Accuracy: 6.250000000\n",
      "\n",
      "Tol: 10.0 or +- 5.0\n",
      "Batch 3/4 -- Loss: 3.02645767 -- Accuracy: 12.50000000\n",
      "\n",
      "Tol: 14.999999999999998 or +- 7.499999999999999\n",
      "Batch 3/4 -- Loss: 3.02645767 -- Accuracy: 12.50000000\n",
      "\n",
      "Tol: 20.0 or +- 10.0\n",
      "Batch 3/4 -- Loss: 3.02645767 -- Accuracy: 12.50000000\n",
      "\n",
      "Tol: 25.0 or +- 12.5\n",
      "Batch 3/4 -- Loss: 3.02645767 -- Accuracy: 15.62500000\n",
      "\n",
      "Tol: 29.999999999999996 or +- 14.999999999999998\n",
      "Batch 3/4 -- Loss: 3.02645767 -- Accuracy: 18.75000000\n",
      "\n"
     ]
    }
   ],
   "source": [
    "accs_across_tolerances = []\n",
    "\n",
    "loader = test_loader\n",
    "\n",
    "with torch.no_grad():\n",
    "    model.eval()\n",
    "    for tol_i, tol in enumerate(tolerance_array_rad):\n",
    "        print(f'Tol: {np.rad2deg(tol)} or +- {np.rad2deg(tol)/2}')\n",
    "        test_acc, test_loss = evaluate(loader, model, criterion, device, tol, BATCH_SIZE)\n",
    "        print('\\n')\n",
    "        \n",
    "        accs_across_tolerances.append(test_acc)"
   ]
  },
  {
   "cell_type": "code",
   "execution_count": 142,
   "metadata": {},
   "outputs": [
    {
     "data": {
      "image/png": "[encoded data removed]",
      "text/plain": [
       "<Figure size 600x400 with 1 Axes>"
      ]
     },
     "metadata": {},
     "output_type": "display_data"
    }
   ],
   "source": [
    "fig, ax = plt.subplots(dpi=100)\n",
    "ax.plot(tolerance_array_deg, accs_across_tolerances, marker='o', linewidth=1)\n",
    "for acc_i, acc in enumerate(accs_across_tolerances):\n",
    "    ax.annotate(f'{acc:0.2f}', ((tolerance_array_deg[acc_i])+0.4, accs_across_tolerances[acc_i]-4))\n",
    "plt.xlabel(f'Tolerance (degree)')\n",
    "plt.ylabel(f'Accuracy (%)')\n",
    "plt.title(f'Test accuracy across tolerance levels')\n",
    "plt.xticks(tolerance_array_deg)\n",
    "sns.despine(top=True, right=True, left=False, bottom=False)"
   ]
  },
  {
   "cell_type": "markdown",
   "metadata": {
    "heading_collapsed": true
   },
   "source": [
    "# Show lines on image"
   ]
  },
  {
   "cell_type": "code",
   "execution_count": null,
   "metadata": {
    "hidden": true
   },
   "outputs": [],
   "source": [
    "test_loader = DataLoader(bee_data, batch_size=1, sampler=sampler_test, drop_last=True)"
   ]
  },
  {
   "cell_type": "code",
   "execution_count": null,
   "metadata": {
    "hidden": true
   },
   "outputs": [],
   "source": [
    "def get_endpoint(point, angle, length):\n",
    "    '''\n",
    "    point - Tuple (x, y)\n",
    "    angle - Angle you want your end point at in degrees.\n",
    "    length - Length of the line you want to plot.\n",
    "    '''\n",
    "    # Unpack the first point\n",
    "    x, y = point\n",
    "    \n",
    "    # Find the end point\n",
    "    endy = y + (length * np.sin(np.radians(angle)))\n",
    "    endx = x + (length * np.cos(np.radians(angle)))\n",
    "    return endx, endy"
   ]
  },
  {
   "cell_type": "code",
   "execution_count": null,
   "metadata": {
    "hidden": true
   },
   "outputs": [],
   "source": [
    "def plot_arrows(X, y, preds, head, tail, length, ax=None, title=None):\n",
    "    img = X.squeeze().permute(1,2,0).numpy()\n",
    "    img = cv2.normalize(img,None,0,255,cv2.NORM_MINMAX).astype(np.uint8)\n",
    "    \n",
    "    midpoint_x = (float(head_x) + float(tail_x)) // 2 \n",
    "    midpoint_y = (float(head_y) + float(tail_y)) // 2 \n",
    "\n",
    "    # True line\n",
    "    true_x1 = tail[0]\n",
    "    true_y1 = tail[1]\n",
    "    true_endx = head[0]\n",
    "    true_endy = head[1]\n",
    "    \n",
    "    # Predicted line\n",
    "    pred_endx, pred_endy = get_endpoint((midpoint_x, midpoint_y), angle=-int(preds), length=length//2)\n",
    "    pred_x1, pred_y1 = get_endpoint((midpoint_x, midpoint_y), angle=-int(preds)+180, length=length//2)\n",
    "\n",
    "    if ax:\n",
    "        plot_type = ax\n",
    "    else:\n",
    "        plot_type = plt\n",
    "        \n",
    "    plot_type.annotate('', xy=(true_x1, true_y1), xytext=(true_endx, true_endy), \n",
    "               arrowprops=dict(arrowstyle=\"->\", color='#81e35d', alpha=0.9, linewidth=2, mutation_scale=28))\n",
    "    plot_type.annotate('', xy=(pred_x1, pred_y1), xytext=(pred_endx, pred_endy), \n",
    "               arrowprops=dict(arrowstyle=\"->\", color='orange', alpha=0.9, linewidth=2, mutation_scale=28))\n",
    "    \n",
    "    if plot_type == ax and title:\n",
    "        plot_type.set_title(f'True: {int(y)}, \\n Pred: {int(preds)}')\n",
    "        \n",
    "    plot_type.imshow(img)\n"
   ]
  },
  {
   "cell_type": "code",
   "execution_count": null,
   "metadata": {
    "hidden": true,
    "scrolled": false
   },
   "outputs": [],
   "source": [
    "# Show some test outputs with arrows\n",
    "n_rows = 10\n",
    "num_imgs = 8*n_rows\n",
    "fig, axes = plt.subplots(n_rows, num_imgs//n_rows, \n",
    "                         figsize=(14,10), dpi=300,\n",
    "                         sharex=True, sharey=True)\n",
    "axes = axes.flat\n",
    "\n",
    "try:\n",
    "    model.eval()\n",
    "    for batch_i, (X, y, head_x, head_y, tail_x, tail_y) in enumerate(test_loader):\n",
    "        \n",
    "        if batch_i == num_imgs:\n",
    "            break\n",
    "            \n",
    "        X, y = Utils.shuffle_batch(X, y)\n",
    "        X = Utils.convert_X_for_resnet(X)\n",
    "\n",
    "        X = X.to(device)\n",
    "        y = y.to(device)\n",
    "\n",
    "        # Convert to float data type\n",
    "        y = y.type(torch.FloatTensor).view(-1,1)\n",
    "        y = np.deg2rad(y)  # Convert to radians\n",
    "\n",
    "        logits = model(X)\n",
    "        preds = logits\n",
    "        preds = np.rad2deg(preds.cpu().detach().numpy())  # Convert output to degrees\n",
    "        \n",
    "        y = np.rad2deg(y)\n",
    "\n",
    "        head = (float(head_x), float(head_y))\n",
    "        tail = (float(tail_x), float(tail_y))\n",
    "        length = np.sqrt((tail_x - head_x)**2 + (tail_y - head_y)**2)\n",
    "        \n",
    "        plot_arrows(X.cpu(), y.cpu(), preds, head, tail, length, axes[batch_i])\n",
    "\n",
    "#         print(y, np.rad2deg(y), preds)\n",
    "\n",
    "except KeyboardInterrupt:\n",
    "    print('Ending early.')\n",
    "    \n",
    "true_patch = mpatches.Patch(color='#81e35d', label='True', linewidth=1)\n",
    "pred_patch = mpatches.Patch(color='orange', label='Predicted', linewidth=1)\n",
    "plt.legend(handles=[true_patch, pred_patch], loc=(-5, -1), title='Orientation');"
   ]
  },
  {
   "cell_type": "code",
   "execution_count": null,
   "metadata": {
    "hidden": true
   },
   "outputs": [],
   "source": []
  }
 ],
 "metadata": {
  "kernelspec": {
   "display_name": "Python 3",
   "language": "python",
   "name": "python3"
  },
  "language_info": {
   "codemirror_mode": {
    "name": "ipython",
    "version": 3
   },
   "file_extension": ".py",
   "mimetype": "text/x-python",
   "name": "python",
   "nbconvert_exporter": "python",
   "pygments_lexer": "ipython3",
   "version": "3.6.10"
  }
 },
 "nbformat": 4,
 "nbformat_minor": 2
}
