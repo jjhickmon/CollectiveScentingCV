{
 "cells": [
  {
   "cell_type": "code",
   "execution_count": 4,
   "metadata": {},
   "outputs": [],
   "source": [
    "import json\n",
    "import os\n",
    "import sys\n",
    "import cv2\n",
    "import copy\n",
    "import pandas as pd\n",
    "import numpy as np\n",
    "\n",
    "import torch.utils.data.sampler"
   ]
  },
  {
   "cell_type": "code",
   "execution_count": 5,
   "metadata": {},
   "outputs": [],
   "source": [
    "class BalancedSubsetSampler(torch.utils.data.Sampler):\n",
    "    def __init__(self, classifications, batch_size, shuffle, idxs):\n",
    "        \n",
    "        self.classifications = classifications\n",
    "        self.num_examples = len(classifications)\n",
    "        self.batch_size = batch_size\n",
    "        self.shuffle = shuffle\n",
    "        self.target_idxs = idxs\n",
    "        \n",
    "        self._setup()\n",
    "        \n",
    "    def _setup(self):\n",
    "        scenting_idxs = np.where(self.classifications=='scenting')[0]\n",
    "        non_scenting_idxs = np.where(self.classifications=='non_scenting')[0]\n",
    "        \n",
    "        scenting_idxs = scenting_idxs[np.in1d(scenting_idxs, self.target_idxs)]\n",
    "        non_scenting_idxs = non_scenting_idxs[np.in1d(non_scenting_idxs, self.target_idxs)]\n",
    "        \n",
    "        self.lookup_src = {\n",
    "            \"scenting\"     : scenting_idxs,\n",
    "            \"non_scenting\" : non_scenting_idxs\n",
    "        }\n",
    "        \n",
    "    def init_lookup(self):\n",
    "        lookup = copy.deepcopy(self.lookup_src)\n",
    "        \n",
    "        if self.shuffle:\n",
    "            for key, val in lookup.items():\n",
    "                np.random.shuffle(val)\n",
    "                \n",
    "        return lookup\n",
    "    \n",
    "    def sample(self, lookup, key):\n",
    "        key_idxs = lookup[key]\n",
    "        return np.random.choice(key_idxs)\n",
    "    \n",
    "    def __len__(self):\n",
    "        return self.num_examples\n",
    "    \n",
    "    def __iter__(self):\n",
    "        lookup = self.init_lookup()\n",
    "        for i in range(self.num_examples):\n",
    "            if i % 2 == 0:\n",
    "                sample = self.sample(lookup, 'scenting')\n",
    "            else:\n",
    "                sample = self.sample(lookup, 'non_scenting')\n",
    "            yield sample\n"
   ]
  },
  {
   "cell_type": "code",
   "execution_count": 7,
   "metadata": {},
   "outputs": [],
   "source": [
    "class SubsetIdentitySampler(torch.utils.data.Sampler):\n",
    "    def __init__(self, indices):\n",
    "        self.indices = indices\n",
    "        \n",
    "    def __iter__(self):\n",
    "        return (idx for idx in self.indices)\n",
    "    \n",
    "    def __len__(self):\n",
    "        return len(self.indices)\n",
    "        "
   ]
  },
  {
   "cell_type": "code",
   "execution_count": null,
   "metadata": {},
   "outputs": [],
   "source": []
  }
 ],
 "metadata": {
  "kernelspec": {
   "display_name": "Python 3",
   "language": "python",
   "name": "python3"
  },
  "language_info": {
   "codemirror_mode": {
    "name": "ipython",
    "version": 3
   },
   "file_extension": ".py",
   "mimetype": "text/x-python",
   "name": "python",
   "nbconvert_exporter": "python",
   "pygments_lexer": "ipython3",
   "version": "3.7.2"
  },
  "toc": {
   "base_numbering": 1,
   "nav_menu": {},
   "number_sections": true,
   "sideBar": true,
   "skip_h1_title": false,
   "title_cell": "Table of Contents",
   "title_sidebar": "Contents",
   "toc_cell": false,
   "toc_position": {},
   "toc_section_display": true,
   "toc_window_display": false
  }
 },
 "nbformat": 4,
 "nbformat_minor": 2
}
