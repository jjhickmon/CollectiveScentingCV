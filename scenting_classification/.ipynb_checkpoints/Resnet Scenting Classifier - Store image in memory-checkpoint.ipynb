{
 "cells": [
  {
   "cell_type": "markdown",
   "metadata": {},
   "source": [
    "# Imports"
   ]
  },
  {
   "cell_type": "code",
   "execution_count": 112,
   "metadata": {},
   "outputs": [
    {
     "name": "stdout",
     "output_type": "stream",
     "text": [
      "The autoreload extension is already loaded. To reload it, use:\n",
      "  %reload_ext autoreload\n"
     ]
    }
   ],
   "source": [
    "%load_ext autoreload\n",
    "%autoreload 2"
   ]
  },
  {
   "cell_type": "code",
   "execution_count": 113,
   "metadata": {},
   "outputs": [],
   "source": [
    "# General\n",
    "import os\n",
    "import sys\n",
    "import cv2\n",
    "import glob\n",
    "import json\n",
    "import pickle\n",
    "import pandas as pd\n",
    "import numpy as np\n",
    "from datetime import datetime\n",
    "\n",
    "# Plotting\n",
    "import seaborn as sns\n",
    "import matplotlib.pyplot as plt\n",
    "sns.set(style=\"ticks\")\n",
    "plt.rcParams[\"font.family\"] = \"Arial\"\n",
    "\n",
    "# Pytorch\n",
    "import torch\n",
    "import torchvision\n",
    "import torch.nn as nn\n",
    "import torchvision.models\n",
    "import torch.optim as optim\n",
    "import torchvision.transforms as transforms\n",
    "from torchvision.datasets import MNIST\n",
    "from torchvision.utils import make_grid\n",
    "from torch.utils.data import Dataset, DataLoader\n",
    "from torch.utils.data.sampler import SubsetRandomSampler"
   ]
  },
  {
   "cell_type": "code",
   "execution_count": 114,
   "metadata": {},
   "outputs": [],
   "source": [
    "# Import other python files\n",
    "sys.path.append('../')\n",
    "import modules.Utils as Utils\n",
    "import modules.DataHandler as DataHandler\n",
    "import modules.DataSamplers as DataSamplers\n",
    "import modules.EvaluationUtils as Evaluation"
   ]
  },
  {
   "cell_type": "markdown",
   "metadata": {},
   "source": [
    "# Dataset & transforms"
   ]
  },
  {
   "cell_type": "code",
   "execution_count": 45,
   "metadata": {},
   "outputs": [
    {
     "data": {
      "text/plain": [
       "True"
      ]
     },
     "execution_count": 45,
     "metadata": {},
     "output_type": "execute_result"
    }
   ],
   "source": [
    "root_path = '../data/training_data/'\n",
    "os.path.exists(root_path)"
   ]
  },
  {
   "cell_type": "code",
   "execution_count": 46,
   "metadata": {},
   "outputs": [],
   "source": [
    "baseline_transforms = transforms.Compose([transforms.ToTensor()])"
   ]
  },
  {
   "cell_type": "code",
   "execution_count": 47,
   "metadata": {},
   "outputs": [],
   "source": [
    "bee_data = DataHandler.BeeDataset_2(root_path, baseline_transforms, augment_transforms=None, mode='train')"
   ]
  },
  {
   "cell_type": "code",
   "execution_count": 48,
   "metadata": {},
   "outputs": [
    {
     "data": {
      "text/plain": [
       "1000"
      ]
     },
     "execution_count": 48,
     "metadata": {},
     "output_type": "execute_result"
    }
   ],
   "source": [
    "num_imgs = len(bee_data.all_img_paths)\n",
    "num_imgs"
   ]
  },
  {
   "cell_type": "markdown",
   "metadata": {},
   "source": [
    "# Data split & loader"
   ]
  },
  {
   "cell_type": "code",
   "execution_count": 49,
   "metadata": {},
   "outputs": [],
   "source": [
    "img_paths = bee_data.all_img_paths\n",
    "labels_list = bee_data.all_labels"
   ]
  },
  {
   "cell_type": "markdown",
   "metadata": {},
   "source": [
    "## Load indices or make new & save"
   ]
  },
  {
   "cell_type": "code",
   "execution_count": 50,
   "metadata": {},
   "outputs": [],
   "source": [
    "np.random.seed(42)\n",
    "LOAD_IDXS = False\n",
    "df_path = os.path.join(root_path, f'train_val_test_idxs.pt')\n",
    "\n",
    "if LOAD_IDXS:\n",
    "    save_df_split_dict = torch.load(df_path)\n",
    "    train_idxs = save_df_split_dict['train_idxs']\n",
    "    val_idxs = save_df_split_dict['val_idxs']\n",
    "    test_idxs = save_df_split_dict['test_idxs']\n",
    "else:\n",
    "    train_idxs, val_idxs, test_idxs = Utils.train_val_test_split(img_paths, labels_list, test_split=0.2, val_split=0.1)\n",
    "    save_df_split_dict = {\"train_idxs\": train_idxs, \"val_idxs\": val_idxs, \"test_idxs\": test_idxs}\n",
    "    # Save split indices to use later\n",
    "    df_path = os.path.join(root_path, f'train_val_test_idxs.pt')\n",
    "    torch.save(save_df_split_dict, df_path)"
   ]
  },
  {
   "cell_type": "code",
   "execution_count": 145,
   "metadata": {},
   "outputs": [
    {
     "data": {
      "text/plain": [
       "True"
      ]
     },
     "execution_count": 145,
     "metadata": {},
     "output_type": "execute_result"
    }
   ],
   "source": [
    "# Check adding up\n",
    "len(train_idxs) + len(val_idxs) + len(test_idxs) == len(bee_data.all_imgs)"
   ]
  },
  {
   "cell_type": "code",
   "execution_count": 146,
   "metadata": {},
   "outputs": [
    {
     "data": {
      "text/plain": [
       "(0, 0, 0)"
      ]
     },
     "execution_count": 146,
     "metadata": {},
     "output_type": "execute_result"
    }
   ],
   "source": [
    "# Check overlapping indices\n",
    "np.in1d(train_idxs, test_idxs).sum(), np.in1d(val_idxs, test_idxs).sum(), np.in1d(train_idxs, val_idxs).sum()"
   ]
  },
  {
   "cell_type": "code",
   "execution_count": 166,
   "metadata": {},
   "outputs": [
    {
     "data": {
      "text/plain": [
       "80"
      ]
     },
     "execution_count": 166,
     "metadata": {},
     "output_type": "execute_result"
    }
   ],
   "source": [
    "len(val_idxs)"
   ]
  },
  {
   "cell_type": "code",
   "execution_count": null,
   "metadata": {},
   "outputs": [],
   "source": []
  },
  {
   "cell_type": "markdown",
   "metadata": {},
   "source": [
    "# Apply normalization & augmentations to train set"
   ]
  },
  {
   "cell_type": "code",
   "execution_count": 168,
   "metadata": {},
   "outputs": [],
   "source": [
    "# data_mean = 0.4872\n",
    "# data_std = 0.1023"
   ]
  },
  {
   "cell_type": "code",
   "execution_count": 169,
   "metadata": {},
   "outputs": [],
   "source": [
    "baseline_transforms = transforms.Compose([transforms.ToTensor() ])\n",
    "# baseline_transforms = transforms.Compose([transforms.ToTensor(),\n",
    "#                                          transforms.Normalize(mean=[data_mean], std=[data_std])\n",
    "#                                          ])"
   ]
  },
  {
   "cell_type": "code",
   "execution_count": 170,
   "metadata": {},
   "outputs": [],
   "source": [
    "augmentation_transforms = transforms.Compose([\n",
    "    transforms.ToPILImage(),\n",
    "    transforms.RandomHorizontalFlip(),\n",
    "    transforms.RandomVerticalFlip(),\n",
    "    transforms.ColorJitter(brightness=0.10),\n",
    "    transforms.RandomAffine(degrees=360, translate=(0.05,0.05), \n",
    "                            scale=(0.93,1.03), fillcolor=210)\n",
    "])"
   ]
  },
  {
   "cell_type": "code",
   "execution_count": 171,
   "metadata": {},
   "outputs": [],
   "source": [
    "bee_data = DataHandler.BeeDataset_2(root_path, baseline_transforms, \n",
    "                                    augment_transforms=augmentation_transforms, \n",
    "                                    mode='train', train_idxs=train_idxs)\n",
    "\n",
    "# bee_data = DataHandler.BeeDataset_2(root_path, baseline_transforms, \n",
    "#                                     augment_transforms=None, \n",
    "#                                     mode='train', train_idxs=train_idxs)"
   ]
  },
  {
   "cell_type": "markdown",
   "metadata": {},
   "source": [
    "# Data sampling"
   ]
  },
  {
   "cell_type": "code",
   "execution_count": 172,
   "metadata": {},
   "outputs": [],
   "source": [
    "SHUFFLE = False\n",
    "BATCH_SIZE = 32"
   ]
  },
  {
   "cell_type": "code",
   "execution_count": 173,
   "metadata": {},
   "outputs": [],
   "source": [
    "np.random.seed(42)\n",
    "balanced_sampler_train = DataSamplers.BalancedSubsetSampler_2(img_paths=img_paths, labels_list=labels_list,\n",
    "                                                idxs=train_idxs)"
   ]
  },
  {
   "cell_type": "code",
   "execution_count": 174,
   "metadata": {},
   "outputs": [],
   "source": [
    "np.random.seed(42)\n",
    "sampler_val = DataSamplers.SubsetIdentitySampler(indices=val_idxs)\n",
    "sampler_test = DataSamplers.SubsetIdentitySampler(indices=test_idxs)"
   ]
  },
  {
   "cell_type": "code",
   "execution_count": 175,
   "metadata": {
    "scrolled": true
   },
   "outputs": [
    {
     "data": {
      "text/plain": [
       "True"
      ]
     },
     "execution_count": 175,
     "metadata": {},
     "output_type": "execute_result"
    }
   ],
   "source": [
    "[i for i in train_idxs if labels_list[i]=='scenting'] == balanced_sampler_train.scenting_indices"
   ]
  },
  {
   "cell_type": "code",
   "execution_count": null,
   "metadata": {},
   "outputs": [],
   "source": []
  },
  {
   "cell_type": "markdown",
   "metadata": {},
   "source": [
    "## Data loaders"
   ]
  },
  {
   "cell_type": "code",
   "execution_count": 176,
   "metadata": {},
   "outputs": [],
   "source": [
    "np.random.seed(42)\n",
    "train_loader = DataLoader(bee_data, batch_size=BATCH_SIZE, sampler=balanced_sampler_train, drop_last=True, num_workers=2)\n",
    "val_loader = DataLoader(bee_data, batch_size=BATCH_SIZE, sampler=sampler_val, drop_last=True)\n",
    "test_loader = DataLoader(bee_data, batch_size=BATCH_SIZE, sampler=sampler_test, drop_last=True)"
   ]
  },
  {
   "cell_type": "code",
   "execution_count": 177,
   "metadata": {
    "scrolled": false
   },
   "outputs": [],
   "source": [
    "# try:\n",
    "#     for i, (X_, y_) in enumerate(train_loader):\n",
    "#         X_, y_ = Utils.shuffle_batch(X_, y_)\n",
    "#         plt.figure(figsize=(10, 10))\n",
    "#         plt.imshow(make_grid(X_, padding=3).permute(1,2,0))\n",
    "        \n",
    "#         if BATCH_SIZE <= 10:\n",
    "#             for i, y_i in enumerate(y_):\n",
    "#                 plt.text((80//2) + (i*(80+3)), -5, str(int(y_i)))\n",
    "            \n",
    "#         plt.show()\n",
    "#         plt.close()\n",
    "#         break\n",
    "# except KeyboardInterrupt:\n",
    "#     print(\"\\nEnding early.\")"
   ]
  },
  {
   "cell_type": "code",
   "execution_count": 178,
   "metadata": {},
   "outputs": [
    {
     "name": "stdout",
     "output_type": "stream",
     "text": [
      "tensor([1, 0, 1, 0, 1, 0, 1, 0, 1, 0, 1, 0, 1, 0, 1, 0, 1, 0, 1, 0, 1, 0, 1, 0,\n",
      "        1, 0, 1, 0, 1, 0, 1, 0])\n"
     ]
    }
   ],
   "source": [
    "for X_, y_ in train_loader:\n",
    "    print(y_)\n",
    "    break"
   ]
  },
  {
   "cell_type": "code",
   "execution_count": 179,
   "metadata": {},
   "outputs": [
    {
     "name": "stdout",
     "output_type": "stream",
     "text": [
      "tensor([1, 1, 1, 1, 1, 1, 1, 1, 1, 1, 1, 1, 1, 1, 1, 1, 1, 1, 1, 1, 1, 1, 1, 1,\n",
      "        1, 1, 1, 1, 1, 1, 1, 1])\n"
     ]
    }
   ],
   "source": [
    "for X_, y_ in val_loader:\n",
    "    print(y_)\n",
    "    break"
   ]
  },
  {
   "cell_type": "markdown",
   "metadata": {
    "heading_collapsed": true
   },
   "source": [
    "# Model"
   ]
  },
  {
   "cell_type": "markdown",
   "metadata": {
    "hidden": true
   },
   "source": [
    "## resnet"
   ]
  },
  {
   "cell_type": "code",
   "execution_count": 67,
   "metadata": {
    "hidden": true
   },
   "outputs": [],
   "source": [
    "NUM_CLASSES = 2"
   ]
  },
  {
   "cell_type": "code",
   "execution_count": 68,
   "metadata": {
    "hidden": true
   },
   "outputs": [],
   "source": [
    "def build_resnet(num_classes):\n",
    "    print(f\"Building resnet-18 with {num_classes} classes.\")\n",
    "    resnet = torchvision.models.resnet18(pretrained=True)\n",
    "    num_ftrs = resnet.fc.in_features\n",
    "    resnet.fc = nn.Sequential(\n",
    "        nn.Dropout(0.5),\n",
    "        nn.Linear(num_ftrs, num_classes))\n",
    "    return resnet"
   ]
  },
  {
   "cell_type": "code",
   "execution_count": 69,
   "metadata": {
    "hidden": true
   },
   "outputs": [
    {
     "name": "stdout",
     "output_type": "stream",
     "text": [
      "Building resnet-18 with 2 classes.\n"
     ]
    }
   ],
   "source": [
    "np.random.seed(42)\n",
    "model = build_resnet(NUM_CLASSES)"
   ]
  },
  {
   "cell_type": "markdown",
   "metadata": {
    "heading_collapsed": true
   },
   "source": [
    "# Check GPU"
   ]
  },
  {
   "cell_type": "code",
   "execution_count": 70,
   "metadata": {
    "hidden": true
   },
   "outputs": [
    {
     "data": {
      "text/plain": [
       "device(type='cpu')"
      ]
     },
     "execution_count": 70,
     "metadata": {},
     "output_type": "execute_result"
    }
   ],
   "source": [
    "device = torch.device(\"cuda\" if torch.cuda.is_available() else \"cpu\")\n",
    "device"
   ]
  },
  {
   "cell_type": "code",
   "execution_count": 71,
   "metadata": {
    "hidden": true
   },
   "outputs": [],
   "source": [
    "model.to(device);"
   ]
  },
  {
   "cell_type": "markdown",
   "metadata": {
    "heading_collapsed": true
   },
   "source": [
    "# Loss & optimizer"
   ]
  },
  {
   "cell_type": "code",
   "execution_count": 72,
   "metadata": {
    "hidden": true
   },
   "outputs": [],
   "source": [
    "LEARNING_RATE = 0.0001"
   ]
  },
  {
   "cell_type": "code",
   "execution_count": 73,
   "metadata": {
    "hidden": true
   },
   "outputs": [],
   "source": [
    "np.random.seed(42)\n",
    "criterion = nn.CrossEntropyLoss()\n",
    "optimizer = optim.Adam(model.parameters(), lr=LEARNING_RATE)"
   ]
  },
  {
   "cell_type": "code",
   "execution_count": 74,
   "metadata": {
    "hidden": true
   },
   "outputs": [
    {
     "data": {
      "text/plain": [
       "128"
      ]
     },
     "execution_count": 74,
     "metadata": {},
     "output_type": "execute_result"
    }
   ],
   "source": [
    "BATCH_SIZE"
   ]
  },
  {
   "cell_type": "markdown",
   "metadata": {
    "heading_collapsed": true
   },
   "source": [
    "# Check load in trained model"
   ]
  },
  {
   "cell_type": "code",
   "execution_count": 75,
   "metadata": {
    "hidden": true
   },
   "outputs": [],
   "source": [
    "def init_metrics():\n",
    "    metrics = {\n",
    "        \"losses\" : {\n",
    "            \"train\" : [],\n",
    "            \"val\"  : []\n",
    "        },\n",
    "        \"accs\" : {\n",
    "            \"train\" : [],\n",
    "            \"val\"  : []\n",
    "        }\n",
    "    }\n",
    "    return metrics"
   ]
  },
  {
   "cell_type": "code",
   "execution_count": 82,
   "metadata": {
    "hidden": true
   },
   "outputs": [
    {
     "data": {
      "text/plain": [
       "True"
      ]
     },
     "execution_count": 82,
     "metadata": {},
     "output_type": "execute_result"
    }
   ],
   "source": [
    "LOAD_MODEL = False\n",
    "load_path = 'saved_models/ResnetScentingModel.pt'\n",
    "os.path.exists(load_path)"
   ]
  },
  {
   "cell_type": "code",
   "execution_count": 83,
   "metadata": {
    "hidden": true
   },
   "outputs": [],
   "source": [
    "device = torch.device(\"cuda\" if torch.cuda.is_available() else \"cpu\")"
   ]
  },
  {
   "cell_type": "code",
   "execution_count": 84,
   "metadata": {
    "hidden": true
   },
   "outputs": [
    {
     "name": "stdout",
     "output_type": "stream",
     "text": [
      "Initializing new model.\n"
     ]
    }
   ],
   "source": [
    "np.random.seed(42)\n",
    "if LOAD_MODEL:\n",
    "    print(f\"Loading model from {load_path}\")\n",
    "    load_dict = torch.load(load_path)\n",
    "    model.load_state_dict(load_dict['model'])\n",
    "    optimizer.load_state_dict(load_dict['optim'])\n",
    "    metrics = load_dict['metrics']\n",
    "    start_epoch = load_dict['epoch']\n",
    "else:\n",
    "    print(\"Initializing new model.\")\n",
    "    metrics = init_metrics()\n",
    "    start_epoch = 0"
   ]
  },
  {
   "cell_type": "code",
   "execution_count": 85,
   "metadata": {
    "hidden": true
   },
   "outputs": [
    {
     "data": {
      "text/plain": [
       "0"
      ]
     },
     "execution_count": 85,
     "metadata": {},
     "output_type": "execute_result"
    }
   ],
   "source": [
    "len(metrics['losses']['train'])"
   ]
  },
  {
   "cell_type": "markdown",
   "metadata": {
    "heading_collapsed": true
   },
   "source": [
    "# Save model"
   ]
  },
  {
   "cell_type": "code",
   "execution_count": 87,
   "metadata": {
    "hidden": true
   },
   "outputs": [],
   "source": [
    "def save_model(model, optimizer, metrics, epoch_i):\n",
    "    save_dict = {\n",
    "        'model'   : model.state_dict(),\n",
    "        'optim'   : optimizer.state_dict(),\n",
    "        'metrics' : metrics,\n",
    "        'epoch'   : epoch_i\n",
    "    }\n",
    "    torch.save(save_dict, f'saved_models/ResnetScentingModel_epoch{epoch_i:05d}.pt')"
   ]
  },
  {
   "cell_type": "markdown",
   "metadata": {},
   "source": [
    "# Train"
   ]
  },
  {
   "cell_type": "code",
   "execution_count": 180,
   "metadata": {},
   "outputs": [],
   "source": [
    "N_EPOCHS = 1"
   ]
  },
  {
   "cell_type": "code",
   "execution_count": 181,
   "metadata": {},
   "outputs": [],
   "source": [
    "highest_val_acc = 0"
   ]
  },
  {
   "cell_type": "code",
   "execution_count": null,
   "metadata": {
    "scrolled": true
   },
   "outputs": [
    {
     "name": "stdout",
     "output_type": "stream",
     "text": [
      "Training\n"
     ]
    }
   ],
   "source": [
    "%%time\n",
    "np.random.seed(42)\n",
    "try:\n",
    "    model.train()\n",
    "    for epoch_i in range(start_epoch, start_epoch+N_EPOCHS):\n",
    "        \n",
    "        # Training loop\n",
    "        # ------------------------------------------------\n",
    "        print(\"Training\")\n",
    "        batch_train_losses = []\n",
    "        batch_train_accs = []\n",
    "        for batch_i, (X_, y_) in enumerate(train_loader):\n",
    "            X_, y_ = Utils.shuffle_batch(X_, y_)\n",
    "            X_fixed = Utils.convert_X_for_resnet(X_)\n",
    "#             X_fixed = X_\n",
    "            \n",
    "            X_fixed = X_fixed.to(device)\n",
    "            y_ = y_.to(device)\n",
    "    \n",
    "            # Pass through model\n",
    "            logits = model(X_fixed)\n",
    "\n",
    "            # Compute loss\n",
    "            loss = criterion(logits, y_)\n",
    "            batch_train_losses.append(loss.item())\n",
    "\n",
    "            # Training step\n",
    "            optimizer.zero_grad()\n",
    "            loss.backward()\n",
    "            optimizer.step()\n",
    "            \n",
    "            # Get training accs\n",
    "            with torch.no_grad():\n",
    "                preds = Utils.get_prediction(logits)\n",
    "                accuracy = Utils.get_accuracy(y_, preds)\n",
    "            batch_train_accs.append(accuracy.item())\n",
    "            \n",
    "            sys.stdout.write(f'\\rEpoch {epoch_i+1}/{start_epoch+N_EPOCHS} -- Batch {batch_i+1}/{len(train_loader)} -- Loss: {loss.item():0.8f} -- Train accuracy: {np.mean(batch_train_accs):0.4f}')\n",
    "            sys.stdout.flush()\n",
    "            \n",
    "        metrics['losses']['train'].append((epoch_i, np.mean(batch_train_losses)))\n",
    "        metrics['accs']['train'].append((epoch_i, np.mean(batch_train_accs)))\n",
    "        # ------------------------------------------------\n",
    "\n",
    "        # Validation Acc\n",
    "        print(\"\\nValidation:\")\n",
    "        with torch.no_grad():\n",
    "            val_acc, val_loss = Utils.evaluate(val_loader, model, criterion, device)\n",
    "        metrics['accs']['val'].append(val_acc)\n",
    "        metrics['losses']['val'].append(val_loss)\n",
    "        print(f\"\\nHighest validation accuracy: {highest_val_acc}\\n\")\n",
    "        \n",
    "        if epoch_i % 100 == 0:\n",
    "            save_model(model, optimizer, metrics, epoch_i)\n",
    "            \n",
    "        if val_acc > highest_val_acc:\n",
    "            highest_val_acc = val_acc\n",
    "            print(f'New highest validation accuracy: {highest_val_acc} at epoch {epoch_i}')\n",
    "            save_model(model, optimizer, metrics, epoch_i)\n",
    "\n",
    "except KeyboardInterrupt:\n",
    "    print(\"\\nEnding early.\")"
   ]
  },
  {
   "cell_type": "code",
   "execution_count": null,
   "metadata": {},
   "outputs": [],
   "source": [
    "save_model(model, optimizer, metrics, epoch_i)"
   ]
  },
  {
   "cell_type": "markdown",
   "metadata": {},
   "source": [
    "# Plot training loss and accuracies"
   ]
  },
  {
   "cell_type": "code",
   "execution_count": 194,
   "metadata": {
    "scrolled": false
   },
   "outputs": [
    {
     "data": {
      "image/png": "[encoded data removed]",
      "text/plain": [
       "<Figure size 600x400 with 1 Axes>"
      ]
     },
     "metadata": {},
     "output_type": "display_data"
    }
   ],
   "source": [
    "epochs = np.array(metrics['losses']['train'])[:1203:,0]\n",
    "train_losses = np.array(metrics['losses']['train'])[:1203:,1]\n",
    "test_losses = np.array(metrics['losses']['val'])[:1203]\n",
    "\n",
    "plt.figure(dpi=100)\n",
    "plt.plot(epochs, train_losses, label='Train')\n",
    "plt.plot(epochs, test_losses, label='Validation')\n",
    "plt.title(f'Loss curves')\n",
    "plt.xlabel(f'Epoch')\n",
    "plt.ylabel(f'Loss')\n",
    "plt.legend();"
   ]
  },
  {
   "cell_type": "code",
   "execution_count": 195,
   "metadata": {
    "scrolled": false
   },
   "outputs": [
    {
     "data": {
      "image/png": "[encoded data removed]",
      "text/plain": [
       "<Figure size 600x400 with 1 Axes>"
      ]
     },
     "metadata": {},
     "output_type": "display_data"
    }
   ],
   "source": [
    "epochs = np.array(metrics['accs']['train'])[:1203:,0]\n",
    "train_accs = np.array(metrics['accs']['train'])[:1203:,1]\n",
    "test_accs = np.array(metrics['accs']['val'])[:1203]\n",
    "\n",
    "plt.figure(dpi=100)\n",
    "plt.plot(epochs, train_accs, label='Train')\n",
    "plt.plot(epochs, test_accs, label='Validation')\n",
    "plt.title(f'Accuracy curves')\n",
    "plt.xlabel(f'Epoch')\n",
    "plt.ylabel(f'Accuracy (%)')\n",
    "plt.legend();"
   ]
  },
  {
   "cell_type": "markdown",
   "metadata": {},
   "source": [
    "# Evaluation"
   ]
  },
  {
   "cell_type": "markdown",
   "metadata": {},
   "source": [
    "## Test accuracy"
   ]
  },
  {
   "cell_type": "code",
   "execution_count": 348,
   "metadata": {},
   "outputs": [],
   "source": [
    "model.to(device);"
   ]
  },
  {
   "cell_type": "code",
   "execution_count": 349,
   "metadata": {},
   "outputs": [
    {
     "name": "stdout",
     "output_type": "stream",
     "text": [
      "Batch 63/64 -- Accuracy: 95.16601562 -- Loss: 0.18173226"
     ]
    }
   ],
   "source": [
    "test_acc, test_loss = Utils.evaluate(test_loader, model, criterion, device)"
   ]
  },
  {
   "cell_type": "markdown",
   "metadata": {},
   "source": [
    "## ROC & AUC"
   ]
  },
  {
   "cell_type": "code",
   "execution_count": 350,
   "metadata": {},
   "outputs": [],
   "source": [
    "thresholds = np.linspace(0, 1.0, 11)"
   ]
  },
  {
   "cell_type": "code",
   "execution_count": 351,
   "metadata": {},
   "outputs": [],
   "source": [
    "model = model.to('cpu')"
   ]
  },
  {
   "cell_type": "code",
   "execution_count": 352,
   "metadata": {
    "scrolled": false
   },
   "outputs": [
    {
     "name": "stdout",
     "output_type": "stream",
     "text": [
      " Threshold threshold_0.00\n",
      " Threshold threshold_0.10\n",
      " Threshold threshold_0.20\n",
      " Threshold threshold_0.30\n",
      " Threshold threshold_0.40\n",
      " Threshold threshold_0.50\n",
      " Threshold threshold_0.60\n",
      " Threshold threshold_0.70\n",
      " Threshold threshold_0.80\n",
      " Threshold threshold_0.90\n",
      " Threshold threshold_1.00\n"
     ]
    },
    {
     "data": {
      "text/html": [
       "<div>\n",
       "<style scoped>\n",
       "    .dataframe tbody tr th:only-of-type {\n",
       "        vertical-align: middle;\n",
       "    }\n",
       "\n",
       "    .dataframe tbody tr th {\n",
       "        vertical-align: top;\n",
       "    }\n",
       "\n",
       "    .dataframe thead th {\n",
       "        text-align: right;\n",
       "    }\n",
       "</style>\n",
       "<table border=\"1\" class=\"dataframe\">\n",
       "  <thead>\n",
       "    <tr style=\"text-align: right;\">\n",
       "      <th></th>\n",
       "      <th>threshold_0.00</th>\n",
       "      <th>threshold_0.10</th>\n",
       "      <th>threshold_0.20</th>\n",
       "      <th>threshold_0.30</th>\n",
       "      <th>threshold_0.40</th>\n",
       "      <th>threshold_0.50</th>\n",
       "      <th>threshold_0.60</th>\n",
       "      <th>threshold_0.70</th>\n",
       "      <th>threshold_0.80</th>\n",
       "      <th>threshold_0.90</th>\n",
       "      <th>threshold_1.00</th>\n",
       "    </tr>\n",
       "  </thead>\n",
       "  <tbody>\n",
       "    <tr>\n",
       "      <td>tp</td>\n",
       "      <td>4039</td>\n",
       "      <td>3945</td>\n",
       "      <td>3909</td>\n",
       "      <td>3900</td>\n",
       "      <td>3880</td>\n",
       "      <td>3853</td>\n",
       "      <td>3813</td>\n",
       "      <td>3755</td>\n",
       "      <td>3669</td>\n",
       "      <td>3473</td>\n",
       "      <td>0</td>\n",
       "    </tr>\n",
       "    <tr>\n",
       "      <td>tn</td>\n",
       "      <td>32</td>\n",
       "      <td>3774</td>\n",
       "      <td>3837</td>\n",
       "      <td>3880</td>\n",
       "      <td>3906</td>\n",
       "      <td>3947</td>\n",
       "      <td>3969</td>\n",
       "      <td>3995</td>\n",
       "      <td>4026</td>\n",
       "      <td>4058</td>\n",
       "      <td>4153</td>\n",
       "    </tr>\n",
       "    <tr>\n",
       "      <td>fp</td>\n",
       "      <td>4121</td>\n",
       "      <td>379</td>\n",
       "      <td>316</td>\n",
       "      <td>273</td>\n",
       "      <td>247</td>\n",
       "      <td>206</td>\n",
       "      <td>184</td>\n",
       "      <td>158</td>\n",
       "      <td>127</td>\n",
       "      <td>95</td>\n",
       "      <td>0</td>\n",
       "    </tr>\n",
       "    <tr>\n",
       "      <td>fn</td>\n",
       "      <td>0</td>\n",
       "      <td>94</td>\n",
       "      <td>130</td>\n",
       "      <td>139</td>\n",
       "      <td>159</td>\n",
       "      <td>186</td>\n",
       "      <td>226</td>\n",
       "      <td>284</td>\n",
       "      <td>370</td>\n",
       "      <td>566</td>\n",
       "      <td>4039</td>\n",
       "    </tr>\n",
       "    <tr>\n",
       "      <td>tpr</td>\n",
       "      <td>1</td>\n",
       "      <td>0.976727</td>\n",
       "      <td>0.967814</td>\n",
       "      <td>0.965586</td>\n",
       "      <td>0.960634</td>\n",
       "      <td>0.953949</td>\n",
       "      <td>0.944046</td>\n",
       "      <td>0.929686</td>\n",
       "      <td>0.908393</td>\n",
       "      <td>0.859866</td>\n",
       "      <td>0</td>\n",
       "    </tr>\n",
       "    <tr>\n",
       "      <td>fpr</td>\n",
       "      <td>0.992295</td>\n",
       "      <td>0.0912593</td>\n",
       "      <td>0.0760896</td>\n",
       "      <td>0.0657356</td>\n",
       "      <td>0.0594751</td>\n",
       "      <td>0.0496027</td>\n",
       "      <td>0.0443053</td>\n",
       "      <td>0.0380448</td>\n",
       "      <td>0.0305803</td>\n",
       "      <td>0.022875</td>\n",
       "      <td>0</td>\n",
       "    </tr>\n",
       "    <tr>\n",
       "      <td>predicted_ys</td>\n",
       "      <td>[True, True, True, True, True, True, True, Tru...</td>\n",
       "      <td>[True, False, True, True, True, True, True, Tr...</td>\n",
       "      <td>[True, False, True, True, True, True, True, Tr...</td>\n",
       "      <td>[True, False, True, True, True, True, True, Tr...</td>\n",
       "      <td>[True, False, True, True, True, True, True, Tr...</td>\n",
       "      <td>[True, False, True, True, True, True, True, Tr...</td>\n",
       "      <td>[True, False, True, True, True, True, True, Tr...</td>\n",
       "      <td>[True, False, True, True, True, True, True, Tr...</td>\n",
       "      <td>[True, False, True, True, True, True, True, Tr...</td>\n",
       "      <td>[True, False, True, True, True, True, True, Tr...</td>\n",
       "      <td>[False, False, False, False, False, False, Fal...</td>\n",
       "    </tr>\n",
       "    <tr>\n",
       "      <td>true_ys</td>\n",
       "      <td>[1, 1, 1, 1, 1, 1, 1, 1, 1, 1, 1, 1, 1, 1, 1, ...</td>\n",
       "      <td>[1, 1, 1, 1, 1, 1, 1, 1, 1, 1, 1, 1, 1, 1, 1, ...</td>\n",
       "      <td>[1, 1, 1, 1, 1, 1, 1, 1, 1, 1, 1, 1, 1, 1, 1, ...</td>\n",
       "      <td>[1, 1, 1, 1, 1, 1, 1, 1, 1, 1, 1, 1, 1, 1, 1, ...</td>\n",
       "      <td>[1, 1, 1, 1, 1, 1, 1, 1, 1, 1, 1, 1, 1, 1, 1, ...</td>\n",
       "      <td>[1, 1, 1, 1, 1, 1, 1, 1, 1, 1, 1, 1, 1, 1, 1, ...</td>\n",
       "      <td>[1, 1, 1, 1, 1, 1, 1, 1, 1, 1, 1, 1, 1, 1, 1, ...</td>\n",
       "      <td>[1, 1, 1, 1, 1, 1, 1, 1, 1, 1, 1, 1, 1, 1, 1, ...</td>\n",
       "      <td>[1, 1, 1, 1, 1, 1, 1, 1, 1, 1, 1, 1, 1, 1, 1, ...</td>\n",
       "      <td>[1, 1, 1, 1, 1, 1, 1, 1, 1, 1, 1, 1, 1, 1, 1, ...</td>\n",
       "      <td>[1, 1, 1, 1, 1, 1, 1, 1, 1, 1, 1, 1, 1, 1, 1, ...</td>\n",
       "    </tr>\n",
       "  </tbody>\n",
       "</table>\n",
       "</div>"
      ],
      "text/plain": [
       "                                                 threshold_0.00  \\\n",
       "tp                                                         4039   \n",
       "tn                                                           32   \n",
       "fp                                                         4121   \n",
       "fn                                                            0   \n",
       "tpr                                                           1   \n",
       "fpr                                                    0.992295   \n",
       "predicted_ys  [True, True, True, True, True, True, True, Tru...   \n",
       "true_ys       [1, 1, 1, 1, 1, 1, 1, 1, 1, 1, 1, 1, 1, 1, 1, ...   \n",
       "\n",
       "                                                 threshold_0.10  \\\n",
       "tp                                                         3945   \n",
       "tn                                                         3774   \n",
       "fp                                                          379   \n",
       "fn                                                           94   \n",
       "tpr                                                    0.976727   \n",
       "fpr                                                   0.0912593   \n",
       "predicted_ys  [True, False, True, True, True, True, True, Tr...   \n",
       "true_ys       [1, 1, 1, 1, 1, 1, 1, 1, 1, 1, 1, 1, 1, 1, 1, ...   \n",
       "\n",
       "                                                 threshold_0.20  \\\n",
       "tp                                                         3909   \n",
       "tn                                                         3837   \n",
       "fp                                                          316   \n",
       "fn                                                          130   \n",
       "tpr                                                    0.967814   \n",
       "fpr                                                   0.0760896   \n",
       "predicted_ys  [True, False, True, True, True, True, True, Tr...   \n",
       "true_ys       [1, 1, 1, 1, 1, 1, 1, 1, 1, 1, 1, 1, 1, 1, 1, ...   \n",
       "\n",
       "                                                 threshold_0.30  \\\n",
       "tp                                                         3900   \n",
       "tn                                                         3880   \n",
       "fp                                                          273   \n",
       "fn                                                          139   \n",
       "tpr                                                    0.965586   \n",
       "fpr                                                   0.0657356   \n",
       "predicted_ys  [True, False, True, True, True, True, True, Tr...   \n",
       "true_ys       [1, 1, 1, 1, 1, 1, 1, 1, 1, 1, 1, 1, 1, 1, 1, ...   \n",
       "\n",
       "                                                 threshold_0.40  \\\n",
       "tp                                                         3880   \n",
       "tn                                                         3906   \n",
       "fp                                                          247   \n",
       "fn                                                          159   \n",
       "tpr                                                    0.960634   \n",
       "fpr                                                   0.0594751   \n",
       "predicted_ys  [True, False, True, True, True, True, True, Tr...   \n",
       "true_ys       [1, 1, 1, 1, 1, 1, 1, 1, 1, 1, 1, 1, 1, 1, 1, ...   \n",
       "\n",
       "                                                 threshold_0.50  \\\n",
       "tp                                                         3853   \n",
       "tn                                                         3947   \n",
       "fp                                                          206   \n",
       "fn                                                          186   \n",
       "tpr                                                    0.953949   \n",
       "fpr                                                   0.0496027   \n",
       "predicted_ys  [True, False, True, True, True, True, True, Tr...   \n",
       "true_ys       [1, 1, 1, 1, 1, 1, 1, 1, 1, 1, 1, 1, 1, 1, 1, ...   \n",
       "\n",
       "                                                 threshold_0.60  \\\n",
       "tp                                                         3813   \n",
       "tn                                                         3969   \n",
       "fp                                                          184   \n",
       "fn                                                          226   \n",
       "tpr                                                    0.944046   \n",
       "fpr                                                   0.0443053   \n",
       "predicted_ys  [True, False, True, True, True, True, True, Tr...   \n",
       "true_ys       [1, 1, 1, 1, 1, 1, 1, 1, 1, 1, 1, 1, 1, 1, 1, ...   \n",
       "\n",
       "                                                 threshold_0.70  \\\n",
       "tp                                                         3755   \n",
       "tn                                                         3995   \n",
       "fp                                                          158   \n",
       "fn                                                          284   \n",
       "tpr                                                    0.929686   \n",
       "fpr                                                   0.0380448   \n",
       "predicted_ys  [True, False, True, True, True, True, True, Tr...   \n",
       "true_ys       [1, 1, 1, 1, 1, 1, 1, 1, 1, 1, 1, 1, 1, 1, 1, ...   \n",
       "\n",
       "                                                 threshold_0.80  \\\n",
       "tp                                                         3669   \n",
       "tn                                                         4026   \n",
       "fp                                                          127   \n",
       "fn                                                          370   \n",
       "tpr                                                    0.908393   \n",
       "fpr                                                   0.0305803   \n",
       "predicted_ys  [True, False, True, True, True, True, True, Tr...   \n",
       "true_ys       [1, 1, 1, 1, 1, 1, 1, 1, 1, 1, 1, 1, 1, 1, 1, ...   \n",
       "\n",
       "                                                 threshold_0.90  \\\n",
       "tp                                                         3473   \n",
       "tn                                                         4058   \n",
       "fp                                                           95   \n",
       "fn                                                          566   \n",
       "tpr                                                    0.859866   \n",
       "fpr                                                    0.022875   \n",
       "predicted_ys  [True, False, True, True, True, True, True, Tr...   \n",
       "true_ys       [1, 1, 1, 1, 1, 1, 1, 1, 1, 1, 1, 1, 1, 1, 1, ...   \n",
       "\n",
       "                                                 threshold_1.00  \n",
       "tp                                                            0  \n",
       "tn                                                         4153  \n",
       "fp                                                            0  \n",
       "fn                                                         4039  \n",
       "tpr                                                           0  \n",
       "fpr                                                           0  \n",
       "predicted_ys  [False, False, False, False, False, False, Fal...  \n",
       "true_ys       [1, 1, 1, 1, 1, 1, 1, 1, 1, 1, 1, 1, 1, 1, 1, ...  "
      ]
     },
     "execution_count": 352,
     "metadata": {},
     "output_type": "execute_result"
    }
   ],
   "source": [
    "test_truth_outputs = Evaluation.evaluation_dataframe(thresholds, test_loader, model)\n",
    "test_truth_outputs.reindex(['tp', 'tn', 'fp', 'fn', 'tpr', 'fpr', 'predicted_ys', 'true_ys'])"
   ]
  },
  {
   "cell_type": "code",
   "execution_count": 356,
   "metadata": {},
   "outputs": [],
   "source": [
    "test_truth_outputs.to_pickle('test_truth_outputs.pkl')"
   ]
  },
  {
   "cell_type": "code",
   "execution_count": 357,
   "metadata": {},
   "outputs": [
    {
     "name": "stdout",
     "output_type": "stream",
     "text": [
      "xxxx\n"
     ]
    },
    {
     "data": {
      "image/png": "[encoded data removed]",
      "text/plain": [
       "<Figure size 450x450 with 1 Axes>"
      ]
     },
     "metadata": {},
     "output_type": "display_data"
    }
   ],
   "source": [
    "Evaluation.plot_ROC(test_truth_outputs, 'Test', 'orange')"
   ]
  },
  {
   "cell_type": "code",
   "execution_count": 355,
   "metadata": {
    "scrolled": true
   },
   "outputs": [
    {
     "name": "stdout",
     "output_type": "stream",
     "text": [
      " Threshold threshold_0.00\n",
      " Threshold threshold_0.10\n",
      " Threshold threshold_0.20\n"
     ]
    },
    {
     "ename": "KeyboardInterrupt",
     "evalue": "",
     "output_type": "error",
     "traceback": [
      "\u001b[1;31m---------------------------------------------------------------------------\u001b[0m",
      "\u001b[1;31mKeyboardInterrupt\u001b[0m                         Traceback (most recent call last)",
      "\u001b[1;32m<ipython-input-355-c56a1a985944>\u001b[0m in \u001b[0;36m<module>\u001b[1;34m\u001b[0m\n\u001b[1;32m----> 1\u001b[1;33m \u001b[0mtrain_truth_outputs\u001b[0m \u001b[1;33m=\u001b[0m \u001b[0mEvaluation\u001b[0m\u001b[1;33m.\u001b[0m\u001b[0mevaluation_dataframe\u001b[0m\u001b[1;33m(\u001b[0m\u001b[0mthresholds\u001b[0m\u001b[1;33m,\u001b[0m \u001b[0mtrain_loader\u001b[0m\u001b[1;33m,\u001b[0m \u001b[0mmodel\u001b[0m\u001b[1;33m)\u001b[0m\u001b[1;33m\u001b[0m\u001b[1;33m\u001b[0m\u001b[0m\n\u001b[0m\u001b[0;32m      2\u001b[0m \u001b[0mtrain_truth_outputs\u001b[0m\u001b[1;33m.\u001b[0m\u001b[0mreindex\u001b[0m\u001b[1;33m(\u001b[0m\u001b[1;33m[\u001b[0m\u001b[1;34m'tp'\u001b[0m\u001b[1;33m,\u001b[0m \u001b[1;34m'tn'\u001b[0m\u001b[1;33m,\u001b[0m \u001b[1;34m'fp'\u001b[0m\u001b[1;33m,\u001b[0m \u001b[1;34m'fn'\u001b[0m\u001b[1;33m,\u001b[0m \u001b[1;34m'tpr'\u001b[0m\u001b[1;33m,\u001b[0m \u001b[1;34m'fpr'\u001b[0m\u001b[1;33m,\u001b[0m \u001b[1;34m'predicted_ys'\u001b[0m\u001b[1;33m,\u001b[0m \u001b[1;34m'true_ys'\u001b[0m\u001b[1;33m]\u001b[0m\u001b[1;33m)\u001b[0m\u001b[1;33m\u001b[0m\u001b[1;33m\u001b[0m\u001b[0m\n",
      "\u001b[1;32m~\\Desktop\\BeeDetectionClassication\\ClassificationPipeline\\scenting_classification\\modules\\EvaluationUtils.py\u001b[0m in \u001b[0;36mevaluation_dataframe\u001b[1;34m(thresholds, loader, model)\u001b[0m\n\u001b[0;32m     35\u001b[0m         \u001b[0mprint\u001b[0m\u001b[1;33m(\u001b[0m\u001b[1;34mf'\\r Threshold {key}'\u001b[0m\u001b[1;33m)\u001b[0m\u001b[1;33m\u001b[0m\u001b[1;33m\u001b[0m\u001b[0m\n\u001b[0;32m     36\u001b[0m \u001b[1;33m\u001b[0m\u001b[0m\n\u001b[1;32m---> 37\u001b[1;33m         \u001b[0my_trues\u001b[0m\u001b[1;33m,\u001b[0m \u001b[0my_preds\u001b[0m \u001b[1;33m=\u001b[0m \u001b[0mevaluate_for_ROC\u001b[0m\u001b[1;33m(\u001b[0m\u001b[0mloader\u001b[0m\u001b[1;33m,\u001b[0m \u001b[0mmodel\u001b[0m\u001b[1;33m,\u001b[0m \u001b[0mthreshold\u001b[0m\u001b[1;33m=\u001b[0m\u001b[0mthresholds\u001b[0m\u001b[1;33m[\u001b[0m\u001b[0mi\u001b[0m\u001b[1;33m]\u001b[0m\u001b[1;33m)\u001b[0m\u001b[1;33m\u001b[0m\u001b[1;33m\u001b[0m\u001b[0m\n\u001b[0m\u001b[0;32m     38\u001b[0m         \u001b[0my_trues\u001b[0m \u001b[1;33m=\u001b[0m \u001b[0mnp\u001b[0m\u001b[1;33m.\u001b[0m\u001b[0marray\u001b[0m\u001b[1;33m(\u001b[0m\u001b[0my_trues\u001b[0m\u001b[1;33m)\u001b[0m\u001b[1;33m.\u001b[0m\u001b[0mflatten\u001b[0m\u001b[1;33m(\u001b[0m\u001b[1;33m)\u001b[0m\u001b[1;33m\u001b[0m\u001b[1;33m\u001b[0m\u001b[0m\n\u001b[0;32m     39\u001b[0m         \u001b[0my_preds\u001b[0m \u001b[1;33m=\u001b[0m \u001b[0mnp\u001b[0m\u001b[1;33m.\u001b[0m\u001b[0marray\u001b[0m\u001b[1;33m(\u001b[0m\u001b[0my_preds\u001b[0m\u001b[1;33m)\u001b[0m\u001b[1;33m.\u001b[0m\u001b[0mflatten\u001b[0m\u001b[1;33m(\u001b[0m\u001b[1;33m)\u001b[0m\u001b[1;33m\u001b[0m\u001b[1;33m\u001b[0m\u001b[0m\n",
      "\u001b[1;32m~\\Desktop\\BeeDetectionClassication\\ClassificationPipeline\\scenting_classification\\modules\\EvaluationUtils.py\u001b[0m in \u001b[0;36mevaluate_for_ROC\u001b[1;34m(loader, model, threshold)\u001b[0m\n\u001b[0;32m     18\u001b[0m             \u001b[1;31m# Run batch through model\u001b[0m\u001b[1;33m\u001b[0m\u001b[1;33m\u001b[0m\u001b[1;33m\u001b[0m\u001b[0m\n\u001b[0;32m     19\u001b[0m \u001b[1;31m#             X = Utils.convert_X_for_resnet(X)\u001b[0m\u001b[1;33m\u001b[0m\u001b[1;33m\u001b[0m\u001b[1;33m\u001b[0m\u001b[0m\n\u001b[1;32m---> 20\u001b[1;33m             \u001b[0mlogits\u001b[0m \u001b[1;33m=\u001b[0m \u001b[0mmodel\u001b[0m\u001b[1;33m(\u001b[0m\u001b[0mX\u001b[0m\u001b[1;33m)\u001b[0m\u001b[1;33m\u001b[0m\u001b[1;33m\u001b[0m\u001b[0m\n\u001b[0m\u001b[0;32m     21\u001b[0m             \u001b[0mprobs\u001b[0m \u001b[1;33m=\u001b[0m \u001b[0mtorch\u001b[0m\u001b[1;33m.\u001b[0m\u001b[0msoftmax\u001b[0m\u001b[1;33m(\u001b[0m\u001b[0mlogits\u001b[0m\u001b[1;33m,\u001b[0m \u001b[0mdim\u001b[0m\u001b[1;33m=\u001b[0m\u001b[1;36m1\u001b[0m\u001b[1;33m)\u001b[0m\u001b[1;33m\u001b[0m\u001b[1;33m\u001b[0m\u001b[0m\n\u001b[0;32m     22\u001b[0m \u001b[1;33m\u001b[0m\u001b[0m\n",
      "\u001b[1;32m~\\AppData\\Local\\Continuum\\anaconda3\\envs\\beesenv\\lib\\site-packages\\torch\\nn\\modules\\module.py\u001b[0m in \u001b[0;36m__call__\u001b[1;34m(self, *input, **kwargs)\u001b[0m\n\u001b[0;32m    539\u001b[0m             \u001b[0mresult\u001b[0m \u001b[1;33m=\u001b[0m \u001b[0mself\u001b[0m\u001b[1;33m.\u001b[0m\u001b[0m_slow_forward\u001b[0m\u001b[1;33m(\u001b[0m\u001b[1;33m*\u001b[0m\u001b[0minput\u001b[0m\u001b[1;33m,\u001b[0m \u001b[1;33m**\u001b[0m\u001b[0mkwargs\u001b[0m\u001b[1;33m)\u001b[0m\u001b[1;33m\u001b[0m\u001b[1;33m\u001b[0m\u001b[0m\n\u001b[0;32m    540\u001b[0m         \u001b[1;32melse\u001b[0m\u001b[1;33m:\u001b[0m\u001b[1;33m\u001b[0m\u001b[1;33m\u001b[0m\u001b[0m\n\u001b[1;32m--> 541\u001b[1;33m             \u001b[0mresult\u001b[0m \u001b[1;33m=\u001b[0m \u001b[0mself\u001b[0m\u001b[1;33m.\u001b[0m\u001b[0mforward\u001b[0m\u001b[1;33m(\u001b[0m\u001b[1;33m*\u001b[0m\u001b[0minput\u001b[0m\u001b[1;33m,\u001b[0m \u001b[1;33m**\u001b[0m\u001b[0mkwargs\u001b[0m\u001b[1;33m)\u001b[0m\u001b[1;33m\u001b[0m\u001b[1;33m\u001b[0m\u001b[0m\n\u001b[0m\u001b[0;32m    542\u001b[0m         \u001b[1;32mfor\u001b[0m \u001b[0mhook\u001b[0m \u001b[1;32min\u001b[0m \u001b[0mself\u001b[0m\u001b[1;33m.\u001b[0m\u001b[0m_forward_hooks\u001b[0m\u001b[1;33m.\u001b[0m\u001b[0mvalues\u001b[0m\u001b[1;33m(\u001b[0m\u001b[1;33m)\u001b[0m\u001b[1;33m:\u001b[0m\u001b[1;33m\u001b[0m\u001b[1;33m\u001b[0m\u001b[0m\n\u001b[0;32m    543\u001b[0m             \u001b[0mhook_result\u001b[0m \u001b[1;33m=\u001b[0m \u001b[0mhook\u001b[0m\u001b[1;33m(\u001b[0m\u001b[0mself\u001b[0m\u001b[1;33m,\u001b[0m \u001b[0minput\u001b[0m\u001b[1;33m,\u001b[0m \u001b[0mresult\u001b[0m\u001b[1;33m)\u001b[0m\u001b[1;33m\u001b[0m\u001b[1;33m\u001b[0m\u001b[0m\n",
      "\u001b[1;32m<ipython-input-332-35233987b893>\u001b[0m in \u001b[0;36mforward\u001b[1;34m(self, x)\u001b[0m\n\u001b[0;32m     39\u001b[0m \u001b[1;33m\u001b[0m\u001b[0m\n\u001b[0;32m     40\u001b[0m \u001b[1;33m\u001b[0m\u001b[0m\n\u001b[1;32m---> 41\u001b[1;33m         \u001b[0mout\u001b[0m \u001b[1;33m=\u001b[0m \u001b[0mself\u001b[0m\u001b[1;33m.\u001b[0m\u001b[0mconv2\u001b[0m\u001b[1;33m(\u001b[0m\u001b[0mout\u001b[0m\u001b[1;33m)\u001b[0m\u001b[1;33m\u001b[0m\u001b[1;33m\u001b[0m\u001b[0m\n\u001b[0m\u001b[0;32m     42\u001b[0m \u001b[1;31m#         print(\"conv2: \", out.shape)\u001b[0m\u001b[1;33m\u001b[0m\u001b[1;33m\u001b[0m\u001b[1;33m\u001b[0m\u001b[0m\n\u001b[0;32m     43\u001b[0m         \u001b[0mout\u001b[0m \u001b[1;33m=\u001b[0m \u001b[0mself\u001b[0m\u001b[1;33m.\u001b[0m\u001b[0mactivation\u001b[0m\u001b[1;33m(\u001b[0m\u001b[0mout\u001b[0m\u001b[1;33m)\u001b[0m\u001b[1;33m\u001b[0m\u001b[1;33m\u001b[0m\u001b[0m\n",
      "\u001b[1;32m~\\AppData\\Local\\Continuum\\anaconda3\\envs\\beesenv\\lib\\site-packages\\torch\\nn\\modules\\module.py\u001b[0m in \u001b[0;36m__call__\u001b[1;34m(self, *input, **kwargs)\u001b[0m\n\u001b[0;32m    539\u001b[0m             \u001b[0mresult\u001b[0m \u001b[1;33m=\u001b[0m \u001b[0mself\u001b[0m\u001b[1;33m.\u001b[0m\u001b[0m_slow_forward\u001b[0m\u001b[1;33m(\u001b[0m\u001b[1;33m*\u001b[0m\u001b[0minput\u001b[0m\u001b[1;33m,\u001b[0m \u001b[1;33m**\u001b[0m\u001b[0mkwargs\u001b[0m\u001b[1;33m)\u001b[0m\u001b[1;33m\u001b[0m\u001b[1;33m\u001b[0m\u001b[0m\n\u001b[0;32m    540\u001b[0m         \u001b[1;32melse\u001b[0m\u001b[1;33m:\u001b[0m\u001b[1;33m\u001b[0m\u001b[1;33m\u001b[0m\u001b[0m\n\u001b[1;32m--> 541\u001b[1;33m             \u001b[0mresult\u001b[0m \u001b[1;33m=\u001b[0m \u001b[0mself\u001b[0m\u001b[1;33m.\u001b[0m\u001b[0mforward\u001b[0m\u001b[1;33m(\u001b[0m\u001b[1;33m*\u001b[0m\u001b[0minput\u001b[0m\u001b[1;33m,\u001b[0m \u001b[1;33m**\u001b[0m\u001b[0mkwargs\u001b[0m\u001b[1;33m)\u001b[0m\u001b[1;33m\u001b[0m\u001b[1;33m\u001b[0m\u001b[0m\n\u001b[0m\u001b[0;32m    542\u001b[0m         \u001b[1;32mfor\u001b[0m \u001b[0mhook\u001b[0m \u001b[1;32min\u001b[0m \u001b[0mself\u001b[0m\u001b[1;33m.\u001b[0m\u001b[0m_forward_hooks\u001b[0m\u001b[1;33m.\u001b[0m\u001b[0mvalues\u001b[0m\u001b[1;33m(\u001b[0m\u001b[1;33m)\u001b[0m\u001b[1;33m:\u001b[0m\u001b[1;33m\u001b[0m\u001b[1;33m\u001b[0m\u001b[0m\n\u001b[0;32m    543\u001b[0m             \u001b[0mhook_result\u001b[0m \u001b[1;33m=\u001b[0m \u001b[0mhook\u001b[0m\u001b[1;33m(\u001b[0m\u001b[0mself\u001b[0m\u001b[1;33m,\u001b[0m \u001b[0minput\u001b[0m\u001b[1;33m,\u001b[0m \u001b[0mresult\u001b[0m\u001b[1;33m)\u001b[0m\u001b[1;33m\u001b[0m\u001b[1;33m\u001b[0m\u001b[0m\n",
      "\u001b[1;32m~\\AppData\\Local\\Continuum\\anaconda3\\envs\\beesenv\\lib\\site-packages\\torch\\nn\\modules\\conv.py\u001b[0m in \u001b[0;36mforward\u001b[1;34m(self, input)\u001b[0m\n\u001b[0;32m    343\u001b[0m \u001b[1;33m\u001b[0m\u001b[0m\n\u001b[0;32m    344\u001b[0m     \u001b[1;32mdef\u001b[0m \u001b[0mforward\u001b[0m\u001b[1;33m(\u001b[0m\u001b[0mself\u001b[0m\u001b[1;33m,\u001b[0m \u001b[0minput\u001b[0m\u001b[1;33m)\u001b[0m\u001b[1;33m:\u001b[0m\u001b[1;33m\u001b[0m\u001b[1;33m\u001b[0m\u001b[0m\n\u001b[1;32m--> 345\u001b[1;33m         \u001b[1;32mreturn\u001b[0m \u001b[0mself\u001b[0m\u001b[1;33m.\u001b[0m\u001b[0mconv2d_forward\u001b[0m\u001b[1;33m(\u001b[0m\u001b[0minput\u001b[0m\u001b[1;33m,\u001b[0m \u001b[0mself\u001b[0m\u001b[1;33m.\u001b[0m\u001b[0mweight\u001b[0m\u001b[1;33m)\u001b[0m\u001b[1;33m\u001b[0m\u001b[1;33m\u001b[0m\u001b[0m\n\u001b[0m\u001b[0;32m    346\u001b[0m \u001b[1;33m\u001b[0m\u001b[0m\n\u001b[0;32m    347\u001b[0m \u001b[1;32mclass\u001b[0m \u001b[0mConv3d\u001b[0m\u001b[1;33m(\u001b[0m\u001b[0m_ConvNd\u001b[0m\u001b[1;33m)\u001b[0m\u001b[1;33m:\u001b[0m\u001b[1;33m\u001b[0m\u001b[1;33m\u001b[0m\u001b[0m\n",
      "\u001b[1;32m~\\AppData\\Local\\Continuum\\anaconda3\\envs\\beesenv\\lib\\site-packages\\torch\\nn\\modules\\conv.py\u001b[0m in \u001b[0;36mconv2d_forward\u001b[1;34m(self, input, weight)\u001b[0m\n\u001b[0;32m    340\u001b[0m                             _pair(0), self.dilation, self.groups)\n\u001b[0;32m    341\u001b[0m         return F.conv2d(input, weight, self.bias, self.stride,\n\u001b[1;32m--> 342\u001b[1;33m                         self.padding, self.dilation, self.groups)\n\u001b[0m\u001b[0;32m    343\u001b[0m \u001b[1;33m\u001b[0m\u001b[0m\n\u001b[0;32m    344\u001b[0m     \u001b[1;32mdef\u001b[0m \u001b[0mforward\u001b[0m\u001b[1;33m(\u001b[0m\u001b[0mself\u001b[0m\u001b[1;33m,\u001b[0m \u001b[0minput\u001b[0m\u001b[1;33m)\u001b[0m\u001b[1;33m:\u001b[0m\u001b[1;33m\u001b[0m\u001b[1;33m\u001b[0m\u001b[0m\n",
      "\u001b[1;31mKeyboardInterrupt\u001b[0m: "
     ]
    }
   ],
   "source": [
    "train_truth_outputs = Evaluation.evaluation_dataframe(thresholds, train_loader, model)\n",
    "train_truth_outputs.reindex(['tp', 'tn', 'fp', 'fn', 'tpr', 'fpr', 'predicted_ys', 'true_ys'])"
   ]
  },
  {
   "cell_type": "code",
   "execution_count": null,
   "metadata": {},
   "outputs": [],
   "source": [
    "train_truth_outputs.to_pickle('train_truth_outputs.pkl')"
   ]
  },
  {
   "cell_type": "code",
   "execution_count": null,
   "metadata": {},
   "outputs": [],
   "source": [
    "Evaluation.plot_ROC(train_truth_outputs, 'Train', 'g')"
   ]
  },
  {
   "cell_type": "markdown",
   "metadata": {},
   "source": [
    "## Confusion matrix, F1-score"
   ]
  },
  {
   "cell_type": "code",
   "execution_count": null,
   "metadata": {},
   "outputs": [],
   "source": [
    "Evaluation.plot_confusion_matrix(train_truth_outputs, 'Train', 'Greens')"
   ]
  },
  {
   "cell_type": "code",
   "execution_count": 362,
   "metadata": {},
   "outputs": [
    {
     "name": "stdout",
     "output_type": "stream",
     "text": [
      "Test recall: 0.9539, Precision: 0.9492, F1 Score: 0.9516\n"
     ]
    },
    {
     "data": {
      "image/png": "[encoded data removed]",
      "text/plain": [
       "<Figure size 500x500 with 2 Axes>"
      ]
     },
     "metadata": {},
     "output_type": "display_data"
    }
   ],
   "source": [
    "Evaluation.plot_confusion_matrix(test_truth_outputs, 'Test', 'Oranges')"
   ]
  },
  {
   "cell_type": "code",
   "execution_count": null,
   "metadata": {},
   "outputs": [],
   "source": []
  }
 ],
 "metadata": {
  "kernelspec": {
   "display_name": "Python 3",
   "language": "python",
   "name": "python3"
  },
  "language_info": {
   "codemirror_mode": {
    "name": "ipython",
    "version": 3
   },
   "file_extension": ".py",
   "mimetype": "text/x-python",
   "name": "python",
   "nbconvert_exporter": "python",
   "pygments_lexer": "ipython3",
   "version": "3.6.10"
  }
 },
 "nbformat": 4,
 "nbformat_minor": 2
}
