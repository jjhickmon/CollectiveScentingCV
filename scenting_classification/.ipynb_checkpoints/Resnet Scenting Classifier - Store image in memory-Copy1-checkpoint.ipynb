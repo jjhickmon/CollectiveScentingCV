{
 "cells": [
  {
   "cell_type": "markdown",
   "metadata": {},
   "source": [
    "# Imports"
   ]
  },
  {
   "cell_type": "code",
   "execution_count": 1,
   "metadata": {},
   "outputs": [],
   "source": [
    "%load_ext autoreload\n",
    "%autoreload 2"
   ]
  },
  {
   "cell_type": "code",
   "execution_count": 2,
   "metadata": {},
   "outputs": [],
   "source": [
    "# General\n",
    "import os\n",
    "import sys\n",
    "import cv2\n",
    "import glob\n",
    "import json\n",
    "import pickle\n",
    "import pandas as pd\n",
    "import numpy as np\n",
    "from datetime import datetime\n",
    "\n",
    "# Plotting\n",
    "import seaborn as sns\n",
    "import matplotlib.pyplot as plt\n",
    "sns.set(style=\"ticks\")\n",
    "plt.rcParams[\"font.family\"] = \"Arial\"\n",
    "\n",
    "# Pytorch\n",
    "import torch\n",
    "import torchvision\n",
    "import torch.nn as nn\n",
    "import torchvision.models\n",
    "import torch.optim as optim\n",
    "import torchvision.transforms as transforms\n",
    "from torchvision.datasets import MNIST\n",
    "from torchvision.utils import make_grid\n",
    "from torch.utils.data import Dataset, DataLoader\n",
    "from torch.utils.data.sampler import SubsetRandomSampler"
   ]
  },
  {
   "cell_type": "code",
   "execution_count": 3,
   "metadata": {},
   "outputs": [],
   "source": [
    "# Import other python files\n",
    "sys.path.append('../')\n",
    "import modules.Utils as Utils\n",
    "import modules.DataHandler as DataHandler\n",
    "import modules.DataSamplers as DataSamplers\n",
    "import modules.EvaluationUtils as Evaluation"
   ]
  },
  {
   "cell_type": "markdown",
   "metadata": {},
   "source": [
    "# Dataset & transforms"
   ]
  },
  {
   "cell_type": "code",
   "execution_count": 4,
   "metadata": {},
   "outputs": [
    {
     "data": {
      "text/plain": [
       "True"
      ]
     },
     "execution_count": 4,
     "metadata": {},
     "output_type": "execute_result"
    }
   ],
   "source": [
    "root_path = '../data/training_data/'\n",
    "os.path.exists(root_path)"
   ]
  },
  {
   "cell_type": "code",
   "execution_count": 5,
   "metadata": {},
   "outputs": [],
   "source": [
    "baseline_transforms = transforms.Compose([transforms.ToTensor()])"
   ]
  },
  {
   "cell_type": "code",
   "execution_count": 6,
   "metadata": {},
   "outputs": [],
   "source": [
    "bee_data = DataHandler.BeeDataset_2(root_path, baseline_transforms, augment_transforms=None, mode='train')"
   ]
  },
  {
   "cell_type": "code",
   "execution_count": 7,
   "metadata": {},
   "outputs": [
    {
     "data": {
      "text/plain": [
       "1000"
      ]
     },
     "execution_count": 7,
     "metadata": {},
     "output_type": "execute_result"
    }
   ],
   "source": [
    "num_imgs = len(bee_data.all_img_paths)\n",
    "num_imgs"
   ]
  },
  {
   "cell_type": "markdown",
   "metadata": {},
   "source": [
    "# Data split & loader"
   ]
  },
  {
   "cell_type": "code",
   "execution_count": 8,
   "metadata": {},
   "outputs": [],
   "source": [
    "img_paths = bee_data.all_img_paths\n",
    "labels_list = bee_data.all_labels"
   ]
  },
  {
   "cell_type": "markdown",
   "metadata": {},
   "source": [
    "## Load indices or make new & save"
   ]
  },
  {
   "cell_type": "code",
   "execution_count": 11,
   "metadata": {},
   "outputs": [],
   "source": [
    "np.random.seed(42)\n",
    "LOAD_IDXS = False\n",
    "df_path = os.path.join(root_path, f'train_val_test_idxs.pt')\n",
    "\n",
    "if LOAD_IDXS:\n",
    "    save_df_split_dict = torch.load(df_path)\n",
    "    train_idxs = save_df_split_dict['train_idxs']\n",
    "    val_idxs = save_df_split_dict['val_idxs']\n",
    "    test_idxs = save_df_split_dict['test_idxs']\n",
    "else:\n",
    "    train_idxs, val_idxs, test_idxs = Utils.train_val_test_split(img_paths, labels_list, test_split=0.2, val_split=0.1)\n",
    "    save_df_split_dict = {\"train_idxs\": train_idxs, \"val_idxs\": val_idxs, \"test_idxs\": test_idxs}\n",
    "    # Save split indices to use later\n",
    "    df_path = os.path.join(root_path, f'train_val_test_idxs.pt')\n",
    "    torch.save(save_df_split_dict, df_path)"
   ]
  },
  {
   "cell_type": "code",
   "execution_count": 12,
   "metadata": {},
   "outputs": [
    {
     "data": {
      "text/plain": [
       "True"
      ]
     },
     "execution_count": 12,
     "metadata": {},
     "output_type": "execute_result"
    }
   ],
   "source": [
    "# Check adding up\n",
    "len(train_idxs) + len(val_idxs) + len(test_idxs) == len(bee_data.all_imgs)"
   ]
  },
  {
   "cell_type": "code",
   "execution_count": 13,
   "metadata": {},
   "outputs": [
    {
     "data": {
      "text/plain": [
       "(0, 0, 0)"
      ]
     },
     "execution_count": 13,
     "metadata": {},
     "output_type": "execute_result"
    }
   ],
   "source": [
    "# Check overlapping indices\n",
    "np.in1d(train_idxs, test_idxs).sum(), np.in1d(val_idxs, test_idxs).sum(), np.in1d(train_idxs, val_idxs).sum()"
   ]
  },
  {
   "cell_type": "code",
   "execution_count": 14,
   "metadata": {},
   "outputs": [
    {
     "data": {
      "text/plain": [
       "80"
      ]
     },
     "execution_count": 14,
     "metadata": {},
     "output_type": "execute_result"
    }
   ],
   "source": [
    "len(val_idxs)"
   ]
  },
  {
   "cell_type": "code",
   "execution_count": null,
   "metadata": {},
   "outputs": [],
   "source": []
  },
  {
   "cell_type": "markdown",
   "metadata": {},
   "source": [
    "# Apply normalization & augmentations to train set"
   ]
  },
  {
   "cell_type": "code",
   "execution_count": null,
   "metadata": {},
   "outputs": [],
   "source": [
    "# data_mean = 0.4872\n",
    "# data_std = 0.1023"
   ]
  },
  {
   "cell_type": "code",
   "execution_count": 15,
   "metadata": {},
   "outputs": [],
   "source": [
    "baseline_transforms = transforms.Compose([transforms.ToTensor() ])\n",
    "# baseline_transforms = transforms.Compose([transforms.ToTensor(),\n",
    "#                                          transforms.Normalize(mean=[data_mean], std=[data_std])\n",
    "#                                          ])"
   ]
  },
  {
   "cell_type": "code",
   "execution_count": 16,
   "metadata": {},
   "outputs": [],
   "source": [
    "augmentation_transforms = transforms.Compose([\n",
    "    transforms.ToPILImage(),\n",
    "    transforms.RandomHorizontalFlip(),\n",
    "    transforms.RandomVerticalFlip(),\n",
    "    transforms.ColorJitter(brightness=0.10),\n",
    "    transforms.RandomAffine(degrees=360, translate=(0.05,0.05), \n",
    "                            scale=(0.93,1.03), fillcolor=210)\n",
    "])"
   ]
  },
  {
   "cell_type": "code",
   "execution_count": 17,
   "metadata": {},
   "outputs": [],
   "source": [
    "bee_data = DataHandler.BeeDataset_2(root_path, baseline_transforms, \n",
    "                                    augment_transforms=augmentation_transforms, \n",
    "                                    mode='train', train_idxs=train_idxs)\n",
    "\n",
    "# bee_data = DataHandler.BeeDataset_2(root_path, baseline_transforms, \n",
    "#                                     augment_transforms=None, \n",
    "#                                     mode='train', train_idxs=train_idxs)"
   ]
  },
  {
   "cell_type": "markdown",
   "metadata": {},
   "source": [
    "# Data sampling"
   ]
  },
  {
   "cell_type": "code",
   "execution_count": 18,
   "metadata": {},
   "outputs": [],
   "source": [
    "SHUFFLE = False\n",
    "BATCH_SIZE = 32"
   ]
  },
  {
   "cell_type": "code",
   "execution_count": 19,
   "metadata": {},
   "outputs": [],
   "source": [
    "np.random.seed(42)\n",
    "balanced_sampler_train = DataSamplers.BalancedSubsetSampler_2(img_paths=img_paths, labels_list=labels_list,\n",
    "                                                idxs=train_idxs)"
   ]
  },
  {
   "cell_type": "code",
   "execution_count": 20,
   "metadata": {},
   "outputs": [],
   "source": [
    "np.random.seed(42)\n",
    "sampler_val = DataSamplers.SubsetIdentitySampler(indices=val_idxs)\n",
    "sampler_test = DataSamplers.SubsetIdentitySampler(indices=test_idxs)"
   ]
  },
  {
   "cell_type": "code",
   "execution_count": 21,
   "metadata": {
    "scrolled": true
   },
   "outputs": [
    {
     "data": {
      "text/plain": [
       "True"
      ]
     },
     "execution_count": 21,
     "metadata": {},
     "output_type": "execute_result"
    }
   ],
   "source": [
    "[i for i in train_idxs if labels_list[i]=='scenting'] == balanced_sampler_train.scenting_indices"
   ]
  },
  {
   "cell_type": "code",
   "execution_count": null,
   "metadata": {},
   "outputs": [],
   "source": []
  },
  {
   "cell_type": "markdown",
   "metadata": {},
   "source": [
    "## Data loaders"
   ]
  },
  {
   "cell_type": "code",
   "execution_count": 22,
   "metadata": {},
   "outputs": [],
   "source": [
    "np.random.seed(42)\n",
    "train_loader = DataLoader(bee_data, batch_size=BATCH_SIZE, sampler=balanced_sampler_train, drop_last=True, num_workers=2)\n",
    "val_loader = DataLoader(bee_data, batch_size=BATCH_SIZE, sampler=sampler_val, drop_last=True)\n",
    "test_loader = DataLoader(bee_data, batch_size=BATCH_SIZE, sampler=sampler_test, drop_last=True)"
   ]
  },
  {
   "cell_type": "code",
   "execution_count": 23,
   "metadata": {
    "scrolled": false
   },
   "outputs": [],
   "source": [
    "# try:\n",
    "#     for i, (X_, y_) in enumerate(train_loader):\n",
    "#         X_, y_ = Utils.shuffle_batch(X_, y_)\n",
    "#         plt.figure(figsize=(10, 10))\n",
    "#         plt.imshow(make_grid(X_, padding=3).permute(1,2,0))\n",
    "        \n",
    "#         if BATCH_SIZE <= 10:\n",
    "#             for i, y_i in enumerate(y_):\n",
    "#                 plt.text((80//2) + (i*(80+3)), -5, str(int(y_i)))\n",
    "            \n",
    "#         plt.show()\n",
    "#         plt.close()\n",
    "#         break\n",
    "# except KeyboardInterrupt:\n",
    "#     print(\"\\nEnding early.\")"
   ]
  },
  {
   "cell_type": "code",
   "execution_count": 24,
   "metadata": {},
   "outputs": [
    {
     "name": "stdout",
     "output_type": "stream",
     "text": [
      "tensor([1, 0, 1, 0, 1, 0, 1, 0, 1, 0, 1, 0, 1, 0, 1, 0, 1, 0, 1, 0, 1, 0, 1, 0,\n",
      "        1, 0, 1, 0, 1, 0, 1, 0])\n"
     ]
    }
   ],
   "source": [
    "for X_, y_ in train_loader:\n",
    "    print(y_)\n",
    "    break"
   ]
  },
  {
   "cell_type": "code",
   "execution_count": 25,
   "metadata": {},
   "outputs": [
    {
     "name": "stdout",
     "output_type": "stream",
     "text": [
      "tensor([1, 1, 0, 1, 1, 1, 0, 1, 1, 0, 1, 1, 0, 1, 0, 0, 1, 1, 0, 1, 1, 0, 1, 0,\n",
      "        0, 0, 1, 1, 0, 0, 0, 0])\n"
     ]
    }
   ],
   "source": [
    "for X_, y_ in val_loader:\n",
    "    print(y_)\n",
    "    break"
   ]
  },
  {
   "cell_type": "markdown",
   "metadata": {},
   "source": [
    "# Model"
   ]
  },
  {
   "cell_type": "markdown",
   "metadata": {},
   "source": [
    "## resnet"
   ]
  },
  {
   "cell_type": "code",
   "execution_count": 26,
   "metadata": {},
   "outputs": [],
   "source": [
    "NUM_CLASSES = 2"
   ]
  },
  {
   "cell_type": "code",
   "execution_count": 27,
   "metadata": {},
   "outputs": [],
   "source": [
    "def build_resnet(num_classes):\n",
    "    print(f\"Building resnet-18 with {num_classes} classes.\")\n",
    "    resnet = torchvision.models.resnet18(pretrained=True)\n",
    "    num_ftrs = resnet.fc.in_features\n",
    "    resnet.fc = nn.Sequential(\n",
    "        nn.Dropout(0.5),\n",
    "        nn.Linear(num_ftrs, num_classes))\n",
    "    return resnet"
   ]
  },
  {
   "cell_type": "code",
   "execution_count": 28,
   "metadata": {},
   "outputs": [
    {
     "name": "stdout",
     "output_type": "stream",
     "text": [
      "Building resnet-18 with 2 classes.\n"
     ]
    }
   ],
   "source": [
    "np.random.seed(42)\n",
    "model = build_resnet(NUM_CLASSES)"
   ]
  },
  {
   "cell_type": "markdown",
   "metadata": {},
   "source": [
    "# Check GPU"
   ]
  },
  {
   "cell_type": "code",
   "execution_count": 29,
   "metadata": {},
   "outputs": [
    {
     "data": {
      "text/plain": [
       "device(type='cpu')"
      ]
     },
     "execution_count": 29,
     "metadata": {},
     "output_type": "execute_result"
    }
   ],
   "source": [
    "device = torch.device(\"cuda\" if torch.cuda.is_available() else \"cpu\")\n",
    "device"
   ]
  },
  {
   "cell_type": "code",
   "execution_count": 30,
   "metadata": {},
   "outputs": [],
   "source": [
    "model.to(device);"
   ]
  },
  {
   "cell_type": "markdown",
   "metadata": {},
   "source": [
    "# Loss & optimizer"
   ]
  },
  {
   "cell_type": "code",
   "execution_count": 31,
   "metadata": {},
   "outputs": [],
   "source": [
    "LEARNING_RATE = 0.0001"
   ]
  },
  {
   "cell_type": "code",
   "execution_count": 32,
   "metadata": {},
   "outputs": [],
   "source": [
    "np.random.seed(42)\n",
    "criterion = nn.CrossEntropyLoss()\n",
    "optimizer = optim.Adam(model.parameters(), lr=LEARNING_RATE)"
   ]
  },
  {
   "cell_type": "markdown",
   "metadata": {},
   "source": [
    "# Check load in trained model"
   ]
  },
  {
   "cell_type": "code",
   "execution_count": 34,
   "metadata": {},
   "outputs": [],
   "source": [
    "def init_metrics():\n",
    "    metrics = {\n",
    "        \"losses\" : {\n",
    "            \"train\" : [],\n",
    "            \"val\"  : []\n",
    "        },\n",
    "        \"accs\" : {\n",
    "            \"train\" : [],\n",
    "            \"val\"  : []\n",
    "        }\n",
    "    }\n",
    "    return metrics"
   ]
  },
  {
   "cell_type": "code",
   "execution_count": 35,
   "metadata": {},
   "outputs": [
    {
     "data": {
      "text/plain": [
       "True"
      ]
     },
     "execution_count": 35,
     "metadata": {},
     "output_type": "execute_result"
    }
   ],
   "source": [
    "LOAD_MODEL = False\n",
    "load_path = 'saved_models/ResnetScentingModel.pt'\n",
    "os.path.exists(load_path)"
   ]
  },
  {
   "cell_type": "code",
   "execution_count": 36,
   "metadata": {},
   "outputs": [],
   "source": [
    "device = torch.device(\"cuda\" if torch.cuda.is_available() else \"cpu\")"
   ]
  },
  {
   "cell_type": "code",
   "execution_count": 37,
   "metadata": {},
   "outputs": [
    {
     "name": "stdout",
     "output_type": "stream",
     "text": [
      "Initializing new model.\n"
     ]
    }
   ],
   "source": [
    "np.random.seed(42)\n",
    "if LOAD_MODEL:\n",
    "    print(f\"Loading model from {load_path}\")\n",
    "    load_dict = torch.load(load_path)\n",
    "    model.load_state_dict(load_dict['model'])\n",
    "    optimizer.load_state_dict(load_dict['optim'])\n",
    "    metrics = load_dict['metrics']\n",
    "    start_epoch = load_dict['epoch']\n",
    "else:\n",
    "    print(\"Initializing new model.\")\n",
    "    metrics = init_metrics()\n",
    "    start_epoch = 0"
   ]
  },
  {
   "cell_type": "markdown",
   "metadata": {},
   "source": [
    "# Save model"
   ]
  },
  {
   "cell_type": "code",
   "execution_count": 39,
   "metadata": {},
   "outputs": [],
   "source": [
    "def save_model(model, optimizer, metrics, epoch_i):\n",
    "    save_dict = {\n",
    "        'model'   : model.state_dict(),\n",
    "        'optim'   : optimizer.state_dict(),\n",
    "        'metrics' : metrics,\n",
    "        'epoch'   : epoch_i\n",
    "    }\n",
    "    torch.save(save_dict, f'saved_models/ResnetScentingModel_epoch{epoch_i:05d}.pt')"
   ]
  },
  {
   "cell_type": "markdown",
   "metadata": {},
   "source": [
    "# Train"
   ]
  },
  {
   "cell_type": "code",
   "execution_count": 41,
   "metadata": {},
   "outputs": [],
   "source": [
    "N_EPOCHS = 5"
   ]
  },
  {
   "cell_type": "code",
   "execution_count": 42,
   "metadata": {},
   "outputs": [],
   "source": [
    "highest_val_acc = 0"
   ]
  },
  {
   "cell_type": "code",
   "execution_count": 43,
   "metadata": {
    "scrolled": true
   },
   "outputs": [
    {
     "name": "stdout",
     "output_type": "stream",
     "text": [
      "Training\n",
      "Epoch 1/5 -- Batch 22/22 -- Loss: 1.03841805 -- Train accuracy: 59.9432\n",
      "Validation:\n",
      "Batch 1/2 -- Accuracy: 59.37500000 -- Loss: 0.67620033[53.125, 65.625]\n",
      "\n",
      "Highest validation accuracy: 0\n",
      "\n",
      "New highest validation accuracy: 59.375 at epoch 0\n",
      "Training\n",
      "Epoch 2/5 -- Batch 22/22 -- Loss: 0.47033414 -- Train accuracy: 76.9886\n",
      "Validation:\n",
      "Batch 1/2 -- Accuracy: 73.43750000 -- Loss: 0.60571793[81.25, 65.625]\n",
      "\n",
      "Highest validation accuracy: 59.375\n",
      "\n",
      "New highest validation accuracy: 73.4375 at epoch 1\n",
      "Training\n",
      "Epoch 3/5 -- Batch 22/22 -- Loss: 0.28607675 -- Train accuracy: 85.0852\n",
      "Validation:\n",
      "Batch 1/2 -- Accuracy: 87.50000000 -- Loss: 0.31745926[90.625, 84.375]\n",
      "\n",
      "Highest validation accuracy: 73.4375\n",
      "\n",
      "New highest validation accuracy: 87.5 at epoch 2\n",
      "Training\n",
      "Epoch 4/5 -- Batch 22/22 -- Loss: 0.18131873 -- Train accuracy: 90.1989\n",
      "Validation:\n",
      "Batch 1/2 -- Accuracy: 92.18750000 -- Loss: 0.28379794[96.875, 87.5]\n",
      "\n",
      "Highest validation accuracy: 87.5\n",
      "\n",
      "New highest validation accuracy: 92.1875 at epoch 3\n",
      "Training\n",
      "Epoch 5/5 -- Batch 22/22 -- Loss: 0.16926341 -- Train accuracy: 89.6307\n",
      "Validation:\n",
      "Batch 1/2 -- Accuracy: 89.06250000 -- Loss: 0.23288225[90.625, 87.5]\n",
      "\n",
      "Highest validation accuracy: 92.1875\n",
      "\n",
      "CPU times: user 2min 21s, sys: 12.3 s, total: 2min 33s\n",
      "Wall time: 2min 48s\n"
     ]
    }
   ],
   "source": [
    "%%time\n",
    "np.random.seed(42)\n",
    "try:\n",
    "    model.train()\n",
    "    for epoch_i in range(start_epoch, start_epoch+N_EPOCHS):\n",
    "        \n",
    "        # Training loop\n",
    "        # ------------------------------------------------\n",
    "        print(\"Training\")\n",
    "        batch_train_losses = []\n",
    "        batch_train_accs = []\n",
    "        for batch_i, (X_, y_) in enumerate(train_loader):\n",
    "            X_, y_ = Utils.shuffle_batch(X_, y_)\n",
    "            X_fixed = Utils.convert_X_for_resnet(X_)\n",
    "#             X_fixed = X_\n",
    "            \n",
    "            X_fixed = X_fixed.to(device)\n",
    "            y_ = y_.to(device)\n",
    "    \n",
    "            # Pass through model\n",
    "            logits = model(X_fixed)\n",
    "\n",
    "            # Compute loss\n",
    "            loss = criterion(logits, y_)\n",
    "            batch_train_losses.append(loss.item())\n",
    "\n",
    "            # Training step\n",
    "            optimizer.zero_grad()\n",
    "            loss.backward()\n",
    "            optimizer.step()\n",
    "            \n",
    "            # Get training accs\n",
    "            with torch.no_grad():\n",
    "                preds = Utils.get_prediction(logits)\n",
    "                accuracy = Utils.get_accuracy(y_, preds)\n",
    "            batch_train_accs.append(accuracy.item())\n",
    "            \n",
    "            sys.stdout.write(f'\\rEpoch {epoch_i+1}/{start_epoch+N_EPOCHS} -- Batch {batch_i+1}/{len(train_loader)} -- Loss: {loss.item():0.8f} -- Train accuracy: {np.mean(batch_train_accs):0.4f}')\n",
    "            sys.stdout.flush()\n",
    "            \n",
    "        metrics['losses']['train'].append((epoch_i, np.mean(batch_train_losses)))\n",
    "        metrics['accs']['train'].append((epoch_i, np.mean(batch_train_accs)))\n",
    "        # ------------------------------------------------\n",
    "\n",
    "        # Validation Acc\n",
    "        print(\"\\nValidation:\")\n",
    "        with torch.no_grad():\n",
    "            val_acc, val_loss = Utils.evaluate(val_loader, model, criterion, device)\n",
    "        metrics['accs']['val'].append(val_acc)\n",
    "        metrics['losses']['val'].append(val_loss)\n",
    "        print(f\"\\nHighest validation accuracy: {highest_val_acc}\\n\")\n",
    "        \n",
    "        if epoch_i % 100 == 0:\n",
    "            save_model(model, optimizer, metrics, epoch_i)\n",
    "            \n",
    "        if val_acc > highest_val_acc:\n",
    "            highest_val_acc = val_acc\n",
    "            print(f'New highest validation accuracy: {highest_val_acc} at epoch {epoch_i}')\n",
    "            save_model(model, optimizer, metrics, epoch_i)\n",
    "\n",
    "except KeyboardInterrupt:\n",
    "    print(\"\\nEnding early.\")"
   ]
  },
  {
   "cell_type": "code",
   "execution_count": 44,
   "metadata": {},
   "outputs": [],
   "source": [
    "save_model(model, optimizer, metrics, epoch_i)"
   ]
  },
  {
   "cell_type": "markdown",
   "metadata": {},
   "source": [
    "# Plot training loss and accuracies"
   ]
  },
  {
   "cell_type": "code",
   "execution_count": 47,
   "metadata": {},
   "outputs": [],
   "source": [
    "epochs = np.array(metrics['losses']['train'])[::,0]\n",
    "train_losses = np.array(metrics['losses']['train'])[::,1]\n",
    "val_losses = np.array(metrics['losses']['val'])[:]\n"
   ]
  },
  {
   "cell_type": "code",
   "execution_count": 49,
   "metadata": {},
   "outputs": [
    {
     "data": {
      "text/plain": [
       "(array([0., 1., 2., 3., 4.]),\n",
       " array([0.73998382, 0.48356459, 0.36530806, 0.28302981, 0.28876624]),\n",
       " array([0.67620033, 0.60571793, 0.31745926, 0.28379794, 0.23288225]))"
      ]
     },
     "execution_count": 49,
     "metadata": {},
     "output_type": "execute_result"
    }
   ],
   "source": [
    "epochs, train_losses, val_losses"
   ]
  },
  {
   "cell_type": "code",
   "execution_count": 51,
   "metadata": {
    "scrolled": false
   },
   "outputs": [
    {
     "data": {
      "image/png": "[encoded data removed]",
      "text/plain": [
       "<Figure size 600x400 with 1 Axes>"
      ]
     },
     "metadata": {},
     "output_type": "display_data"
    }
   ],
   "source": [
    "\n",
    "plt.figure(dpi=100)\n",
    "plt.plot(epochs, train_losses, label='Train')\n",
    "plt.plot(epochs, val_losses, label='Validation')\n",
    "plt.title(f'Loss curves')\n",
    "plt.xlabel(f'Epoch')\n",
    "plt.ylabel(f'Loss')\n",
    "plt.legend();"
   ]
  },
  {
   "cell_type": "code",
   "execution_count": 53,
   "metadata": {
    "scrolled": false
   },
   "outputs": [
    {
     "data": {
      "image/png": "[encoded data removed]",
      "text/plain": [
       "<Figure size 600x400 with 1 Axes>"
      ]
     },
     "metadata": {},
     "output_type": "display_data"
    }
   ],
   "source": [
    "epochs = np.array(metrics['accs']['train'])[:1203:,0]\n",
    "train_accs = np.array(metrics['accs']['train'])[:1203:,1]\n",
    "val_accs = np.array(metrics['accs']['val'])[:1203]\n",
    "\n",
    "plt.figure(dpi=100)\n",
    "plt.plot(epochs, train_accs, label='Train')\n",
    "plt.plot(epochs, val_accs, label='Validation')\n",
    "plt.title(f'Accuracy curves')\n",
    "plt.xlabel(f'Epoch')\n",
    "plt.ylabel(f'Accuracy (%)')\n",
    "plt.legend();"
   ]
  },
  {
   "cell_type": "markdown",
   "metadata": {},
   "source": [
    "# Evaluation"
   ]
  },
  {
   "cell_type": "markdown",
   "metadata": {},
   "source": [
    "## Test accuracy"
   ]
  },
  {
   "cell_type": "code",
   "execution_count": 54,
   "metadata": {},
   "outputs": [],
   "source": [
    "model.to(device);"
   ]
  },
  {
   "cell_type": "code",
   "execution_count": 55,
   "metadata": {},
   "outputs": [
    {
     "name": "stdout",
     "output_type": "stream",
     "text": [
      "Batch 5/6 -- Accuracy: 87.50000000 -- Loss: 0.27729750[87.5, 81.25, 96.875, 96.875, 78.125, 84.375]\n"
     ]
    }
   ],
   "source": [
    "test_acc, test_loss = Utils.evaluate(test_loader, model, criterion, device)"
   ]
  },
  {
   "cell_type": "markdown",
   "metadata": {},
   "source": [
    "## ROC & AUC"
   ]
  },
  {
   "cell_type": "code",
   "execution_count": 56,
   "metadata": {},
   "outputs": [],
   "source": [
    "thresholds = np.linspace(0, 1.0, 11)"
   ]
  },
  {
   "cell_type": "code",
   "execution_count": 57,
   "metadata": {},
   "outputs": [],
   "source": [
    "model = model.to('cpu')"
   ]
  },
  {
   "cell_type": "code",
   "execution_count": 60,
   "metadata": {
    "scrolled": false
   },
   "outputs": [
    {
     "name": "stdout",
     "output_type": "stream",
     "text": [
      " Threshold threshold_0.00\n",
      " Threshold threshold_0.10\n",
      " Threshold threshold_0.20\n",
      " Threshold threshold_0.30\n",
      " Threshold threshold_0.40\n",
      " Threshold threshold_0.50\n",
      " Threshold threshold_0.60\n",
      " Threshold threshold_0.70\n",
      " Threshold threshold_0.80\n",
      " Threshold threshold_0.90\n",
      " Threshold threshold_1.00\n"
     ]
    },
    {
     "data": {
      "text/html": [
       "<div>\n",
       "<style scoped>\n",
       "    .dataframe tbody tr th:only-of-type {\n",
       "        vertical-align: middle;\n",
       "    }\n",
       "\n",
       "    .dataframe tbody tr th {\n",
       "        vertical-align: top;\n",
       "    }\n",
       "\n",
       "    .dataframe thead th {\n",
       "        text-align: right;\n",
       "    }\n",
       "</style>\n",
       "<table border=\"1\" class=\"dataframe\">\n",
       "  <thead>\n",
       "    <tr style=\"text-align: right;\">\n",
       "      <th></th>\n",
       "      <th>threshold_0.00</th>\n",
       "      <th>threshold_0.10</th>\n",
       "      <th>threshold_0.20</th>\n",
       "      <th>threshold_0.30</th>\n",
       "      <th>threshold_0.40</th>\n",
       "      <th>threshold_0.50</th>\n",
       "      <th>threshold_0.60</th>\n",
       "      <th>threshold_0.70</th>\n",
       "      <th>threshold_0.80</th>\n",
       "      <th>threshold_0.90</th>\n",
       "      <th>threshold_1.00</th>\n",
       "    </tr>\n",
       "  </thead>\n",
       "  <tbody>\n",
       "    <tr>\n",
       "      <th>tp</th>\n",
       "      <td>95</td>\n",
       "      <td>94</td>\n",
       "      <td>93</td>\n",
       "      <td>91</td>\n",
       "      <td>90</td>\n",
       "      <td>90</td>\n",
       "      <td>86</td>\n",
       "      <td>86</td>\n",
       "      <td>82</td>\n",
       "      <td>82</td>\n",
       "      <td>0</td>\n",
       "    </tr>\n",
       "    <tr>\n",
       "      <th>tn</th>\n",
       "      <td>0</td>\n",
       "      <td>56</td>\n",
       "      <td>65</td>\n",
       "      <td>72</td>\n",
       "      <td>73</td>\n",
       "      <td>78</td>\n",
       "      <td>81</td>\n",
       "      <td>86</td>\n",
       "      <td>89</td>\n",
       "      <td>92</td>\n",
       "      <td>97</td>\n",
       "    </tr>\n",
       "    <tr>\n",
       "      <th>fp</th>\n",
       "      <td>97</td>\n",
       "      <td>41</td>\n",
       "      <td>32</td>\n",
       "      <td>25</td>\n",
       "      <td>24</td>\n",
       "      <td>19</td>\n",
       "      <td>16</td>\n",
       "      <td>11</td>\n",
       "      <td>8</td>\n",
       "      <td>5</td>\n",
       "      <td>0</td>\n",
       "    </tr>\n",
       "    <tr>\n",
       "      <th>fn</th>\n",
       "      <td>0</td>\n",
       "      <td>1</td>\n",
       "      <td>2</td>\n",
       "      <td>4</td>\n",
       "      <td>5</td>\n",
       "      <td>5</td>\n",
       "      <td>9</td>\n",
       "      <td>9</td>\n",
       "      <td>13</td>\n",
       "      <td>13</td>\n",
       "      <td>95</td>\n",
       "    </tr>\n",
       "    <tr>\n",
       "      <th>tpr</th>\n",
       "      <td>1</td>\n",
       "      <td>0.989474</td>\n",
       "      <td>0.978947</td>\n",
       "      <td>0.957895</td>\n",
       "      <td>0.947368</td>\n",
       "      <td>0.947368</td>\n",
       "      <td>0.905263</td>\n",
       "      <td>0.905263</td>\n",
       "      <td>0.863158</td>\n",
       "      <td>0.863158</td>\n",
       "      <td>0</td>\n",
       "    </tr>\n",
       "    <tr>\n",
       "      <th>fpr</th>\n",
       "      <td>1</td>\n",
       "      <td>0.42268</td>\n",
       "      <td>0.329897</td>\n",
       "      <td>0.257732</td>\n",
       "      <td>0.247423</td>\n",
       "      <td>0.195876</td>\n",
       "      <td>0.164948</td>\n",
       "      <td>0.113402</td>\n",
       "      <td>0.0824742</td>\n",
       "      <td>0.0515464</td>\n",
       "      <td>0</td>\n",
       "    </tr>\n",
       "    <tr>\n",
       "      <th>predicted_ys</th>\n",
       "      <td>[True, True, True, True, True, True, True, Tru...</td>\n",
       "      <td>[False, False, True, False, True, True, False,...</td>\n",
       "      <td>[False, False, True, False, True, True, False,...</td>\n",
       "      <td>[False, False, True, False, True, True, False,...</td>\n",
       "      <td>[False, False, True, False, True, True, False,...</td>\n",
       "      <td>[False, False, True, False, True, True, False,...</td>\n",
       "      <td>[False, False, True, False, True, True, False,...</td>\n",
       "      <td>[False, False, True, False, True, True, False,...</td>\n",
       "      <td>[False, False, True, False, True, True, False,...</td>\n",
       "      <td>[False, False, True, False, True, True, False,...</td>\n",
       "      <td>[False, False, False, False, False, False, Fal...</td>\n",
       "    </tr>\n",
       "    <tr>\n",
       "      <th>true_ys</th>\n",
       "      <td>[0, 0, 1, 0, 1, 0, 0, 0, 1, 1, 0, 1, 1, 0, 0, ...</td>\n",
       "      <td>[0, 0, 1, 0, 1, 0, 0, 0, 1, 1, 0, 1, 1, 0, 0, ...</td>\n",
       "      <td>[0, 0, 1, 0, 1, 0, 0, 0, 1, 1, 0, 1, 1, 0, 0, ...</td>\n",
       "      <td>[0, 0, 1, 0, 1, 0, 0, 0, 1, 1, 0, 1, 1, 0, 0, ...</td>\n",
       "      <td>[0, 0, 1, 0, 1, 0, 0, 0, 1, 1, 0, 1, 1, 0, 0, ...</td>\n",
       "      <td>[0, 0, 1, 0, 1, 0, 0, 0, 1, 1, 0, 1, 1, 0, 0, ...</td>\n",
       "      <td>[0, 0, 1, 0, 1, 0, 0, 0, 1, 1, 0, 1, 1, 0, 0, ...</td>\n",
       "      <td>[0, 0, 1, 0, 1, 0, 0, 0, 1, 1, 0, 1, 1, 0, 0, ...</td>\n",
       "      <td>[0, 0, 1, 0, 1, 0, 0, 0, 1, 1, 0, 1, 1, 0, 0, ...</td>\n",
       "      <td>[0, 0, 1, 0, 1, 0, 0, 0, 1, 1, 0, 1, 1, 0, 0, ...</td>\n",
       "      <td>[0, 0, 1, 0, 1, 0, 0, 0, 1, 1, 0, 1, 1, 0, 0, ...</td>\n",
       "    </tr>\n",
       "  </tbody>\n",
       "</table>\n",
       "</div>"
      ],
      "text/plain": [
       "                                                 threshold_0.00  \\\n",
       "tp                                                           95   \n",
       "tn                                                            0   \n",
       "fp                                                           97   \n",
       "fn                                                            0   \n",
       "tpr                                                           1   \n",
       "fpr                                                           1   \n",
       "predicted_ys  [True, True, True, True, True, True, True, Tru...   \n",
       "true_ys       [0, 0, 1, 0, 1, 0, 0, 0, 1, 1, 0, 1, 1, 0, 0, ...   \n",
       "\n",
       "                                                 threshold_0.10  \\\n",
       "tp                                                           94   \n",
       "tn                                                           56   \n",
       "fp                                                           41   \n",
       "fn                                                            1   \n",
       "tpr                                                    0.989474   \n",
       "fpr                                                     0.42268   \n",
       "predicted_ys  [False, False, True, False, True, True, False,...   \n",
       "true_ys       [0, 0, 1, 0, 1, 0, 0, 0, 1, 1, 0, 1, 1, 0, 0, ...   \n",
       "\n",
       "                                                 threshold_0.20  \\\n",
       "tp                                                           93   \n",
       "tn                                                           65   \n",
       "fp                                                           32   \n",
       "fn                                                            2   \n",
       "tpr                                                    0.978947   \n",
       "fpr                                                    0.329897   \n",
       "predicted_ys  [False, False, True, False, True, True, False,...   \n",
       "true_ys       [0, 0, 1, 0, 1, 0, 0, 0, 1, 1, 0, 1, 1, 0, 0, ...   \n",
       "\n",
       "                                                 threshold_0.30  \\\n",
       "tp                                                           91   \n",
       "tn                                                           72   \n",
       "fp                                                           25   \n",
       "fn                                                            4   \n",
       "tpr                                                    0.957895   \n",
       "fpr                                                    0.257732   \n",
       "predicted_ys  [False, False, True, False, True, True, False,...   \n",
       "true_ys       [0, 0, 1, 0, 1, 0, 0, 0, 1, 1, 0, 1, 1, 0, 0, ...   \n",
       "\n",
       "                                                 threshold_0.40  \\\n",
       "tp                                                           90   \n",
       "tn                                                           73   \n",
       "fp                                                           24   \n",
       "fn                                                            5   \n",
       "tpr                                                    0.947368   \n",
       "fpr                                                    0.247423   \n",
       "predicted_ys  [False, False, True, False, True, True, False,...   \n",
       "true_ys       [0, 0, 1, 0, 1, 0, 0, 0, 1, 1, 0, 1, 1, 0, 0, ...   \n",
       "\n",
       "                                                 threshold_0.50  \\\n",
       "tp                                                           90   \n",
       "tn                                                           78   \n",
       "fp                                                           19   \n",
       "fn                                                            5   \n",
       "tpr                                                    0.947368   \n",
       "fpr                                                    0.195876   \n",
       "predicted_ys  [False, False, True, False, True, True, False,...   \n",
       "true_ys       [0, 0, 1, 0, 1, 0, 0, 0, 1, 1, 0, 1, 1, 0, 0, ...   \n",
       "\n",
       "                                                 threshold_0.60  \\\n",
       "tp                                                           86   \n",
       "tn                                                           81   \n",
       "fp                                                           16   \n",
       "fn                                                            9   \n",
       "tpr                                                    0.905263   \n",
       "fpr                                                    0.164948   \n",
       "predicted_ys  [False, False, True, False, True, True, False,...   \n",
       "true_ys       [0, 0, 1, 0, 1, 0, 0, 0, 1, 1, 0, 1, 1, 0, 0, ...   \n",
       "\n",
       "                                                 threshold_0.70  \\\n",
       "tp                                                           86   \n",
       "tn                                                           86   \n",
       "fp                                                           11   \n",
       "fn                                                            9   \n",
       "tpr                                                    0.905263   \n",
       "fpr                                                    0.113402   \n",
       "predicted_ys  [False, False, True, False, True, True, False,...   \n",
       "true_ys       [0, 0, 1, 0, 1, 0, 0, 0, 1, 1, 0, 1, 1, 0, 0, ...   \n",
       "\n",
       "                                                 threshold_0.80  \\\n",
       "tp                                                           82   \n",
       "tn                                                           89   \n",
       "fp                                                            8   \n",
       "fn                                                           13   \n",
       "tpr                                                    0.863158   \n",
       "fpr                                                   0.0824742   \n",
       "predicted_ys  [False, False, True, False, True, True, False,...   \n",
       "true_ys       [0, 0, 1, 0, 1, 0, 0, 0, 1, 1, 0, 1, 1, 0, 0, ...   \n",
       "\n",
       "                                                 threshold_0.90  \\\n",
       "tp                                                           82   \n",
       "tn                                                           92   \n",
       "fp                                                            5   \n",
       "fn                                                           13   \n",
       "tpr                                                    0.863158   \n",
       "fpr                                                   0.0515464   \n",
       "predicted_ys  [False, False, True, False, True, True, False,...   \n",
       "true_ys       [0, 0, 1, 0, 1, 0, 0, 0, 1, 1, 0, 1, 1, 0, 0, ...   \n",
       "\n",
       "                                                 threshold_1.00  \n",
       "tp                                                            0  \n",
       "tn                                                           97  \n",
       "fp                                                            0  \n",
       "fn                                                           95  \n",
       "tpr                                                           0  \n",
       "fpr                                                           0  \n",
       "predicted_ys  [False, False, False, False, False, False, Fal...  \n",
       "true_ys       [0, 0, 1, 0, 1, 0, 0, 0, 1, 1, 0, 1, 1, 0, 0, ...  "
      ]
     },
     "execution_count": 60,
     "metadata": {},
     "output_type": "execute_result"
    }
   ],
   "source": [
    "test_truth_outputs = Evaluation.evaluation_dataframe(thresholds, test_loader, model)\n",
    "test_truth_outputs.reindex(['tp', 'tn', 'fp', 'fn', 'tpr', 'fpr', 'predicted_ys', 'true_ys'])"
   ]
  },
  {
   "cell_type": "code",
   "execution_count": 61,
   "metadata": {},
   "outputs": [],
   "source": [
    "test_truth_outputs.to_pickle('test_truth_outputs.pkl')"
   ]
  },
  {
   "cell_type": "code",
   "execution_count": 62,
   "metadata": {},
   "outputs": [
    {
     "name": "stdout",
     "output_type": "stream",
     "text": [
      "xxxx\n"
     ]
    },
    {
     "data": {
      "image/png": "[encoded data removed]",
      "text/plain": [
       "<Figure size 450x450 with 1 Axes>"
      ]
     },
     "metadata": {},
     "output_type": "display_data"
    }
   ],
   "source": [
    "Evaluation.plot_ROC(test_truth_outputs, 'Test', 'orange')"
   ]
  },
  {
   "cell_type": "code",
   "execution_count": 63,
   "metadata": {
    "scrolled": true
   },
   "outputs": [
    {
     "name": "stdout",
     "output_type": "stream",
     "text": [
      " Threshold threshold_0.00\n",
      " Threshold threshold_0.10\n",
      " Threshold threshold_0.20\n",
      " Threshold threshold_0.30\n",
      " Threshold threshold_0.40\n",
      " Threshold threshold_0.50\n",
      " Threshold threshold_0.60\n",
      " Threshold threshold_0.70\n",
      " Threshold threshold_0.80\n",
      " Threshold threshold_0.90\n",
      " Threshold threshold_1.00\n"
     ]
    },
    {
     "data": {
      "text/html": [
       "<div>\n",
       "<style scoped>\n",
       "    .dataframe tbody tr th:only-of-type {\n",
       "        vertical-align: middle;\n",
       "    }\n",
       "\n",
       "    .dataframe tbody tr th {\n",
       "        vertical-align: top;\n",
       "    }\n",
       "\n",
       "    .dataframe thead th {\n",
       "        text-align: right;\n",
       "    }\n",
       "</style>\n",
       "<table border=\"1\" class=\"dataframe\">\n",
       "  <thead>\n",
       "    <tr style=\"text-align: right;\">\n",
       "      <th></th>\n",
       "      <th>threshold_0.00</th>\n",
       "      <th>threshold_0.10</th>\n",
       "      <th>threshold_0.20</th>\n",
       "      <th>threshold_0.30</th>\n",
       "      <th>threshold_0.40</th>\n",
       "      <th>threshold_0.50</th>\n",
       "      <th>threshold_0.60</th>\n",
       "      <th>threshold_0.70</th>\n",
       "      <th>threshold_0.80</th>\n",
       "      <th>threshold_0.90</th>\n",
       "      <th>threshold_1.00</th>\n",
       "    </tr>\n",
       "  </thead>\n",
       "  <tbody>\n",
       "    <tr>\n",
       "      <th>tp</th>\n",
       "      <td>352</td>\n",
       "      <td>351</td>\n",
       "      <td>347</td>\n",
       "      <td>349</td>\n",
       "      <td>342</td>\n",
       "      <td>343</td>\n",
       "      <td>342</td>\n",
       "      <td>333</td>\n",
       "      <td>336</td>\n",
       "      <td>307</td>\n",
       "      <td>0</td>\n",
       "    </tr>\n",
       "    <tr>\n",
       "      <th>tn</th>\n",
       "      <td>0</td>\n",
       "      <td>190</td>\n",
       "      <td>226</td>\n",
       "      <td>252</td>\n",
       "      <td>259</td>\n",
       "      <td>295</td>\n",
       "      <td>295</td>\n",
       "      <td>303</td>\n",
       "      <td>316</td>\n",
       "      <td>327</td>\n",
       "      <td>352</td>\n",
       "    </tr>\n",
       "    <tr>\n",
       "      <th>fp</th>\n",
       "      <td>352</td>\n",
       "      <td>162</td>\n",
       "      <td>126</td>\n",
       "      <td>100</td>\n",
       "      <td>93</td>\n",
       "      <td>57</td>\n",
       "      <td>57</td>\n",
       "      <td>49</td>\n",
       "      <td>36</td>\n",
       "      <td>25</td>\n",
       "      <td>0</td>\n",
       "    </tr>\n",
       "    <tr>\n",
       "      <th>fn</th>\n",
       "      <td>0</td>\n",
       "      <td>1</td>\n",
       "      <td>5</td>\n",
       "      <td>3</td>\n",
       "      <td>10</td>\n",
       "      <td>9</td>\n",
       "      <td>10</td>\n",
       "      <td>19</td>\n",
       "      <td>16</td>\n",
       "      <td>45</td>\n",
       "      <td>352</td>\n",
       "    </tr>\n",
       "    <tr>\n",
       "      <th>tpr</th>\n",
       "      <td>1</td>\n",
       "      <td>0.997159</td>\n",
       "      <td>0.985795</td>\n",
       "      <td>0.991477</td>\n",
       "      <td>0.971591</td>\n",
       "      <td>0.974432</td>\n",
       "      <td>0.971591</td>\n",
       "      <td>0.946023</td>\n",
       "      <td>0.954545</td>\n",
       "      <td>0.872159</td>\n",
       "      <td>0</td>\n",
       "    </tr>\n",
       "    <tr>\n",
       "      <th>fpr</th>\n",
       "      <td>1</td>\n",
       "      <td>0.460227</td>\n",
       "      <td>0.357955</td>\n",
       "      <td>0.284091</td>\n",
       "      <td>0.264205</td>\n",
       "      <td>0.161932</td>\n",
       "      <td>0.161932</td>\n",
       "      <td>0.139205</td>\n",
       "      <td>0.102273</td>\n",
       "      <td>0.0710227</td>\n",
       "      <td>0</td>\n",
       "    </tr>\n",
       "    <tr>\n",
       "      <th>predicted_ys</th>\n",
       "      <td>[True, True, True, True, True, True, True, Tru...</td>\n",
       "      <td>[True, True, True, True, True, False, True, Tr...</td>\n",
       "      <td>[True, False, True, False, True, False, True, ...</td>\n",
       "      <td>[True, True, True, False, True, False, True, T...</td>\n",
       "      <td>[False, False, True, False, False, False, True...</td>\n",
       "      <td>[True, False, True, False, False, False, True,...</td>\n",
       "      <td>[True, False, True, False, True, False, True, ...</td>\n",
       "      <td>[True, True, True, False, True, False, True, F...</td>\n",
       "      <td>[True, True, True, False, True, False, True, F...</td>\n",
       "      <td>[True, False, False, False, True, False, True,...</td>\n",
       "      <td>[False, False, False, False, False, False, Fal...</td>\n",
       "    </tr>\n",
       "    <tr>\n",
       "      <th>true_ys</th>\n",
       "      <td>[1, 0, 1, 0, 1, 0, 1, 0, 1, 0, 1, 0, 1, 0, 1, ...</td>\n",
       "      <td>[1, 0, 1, 0, 1, 0, 1, 0, 1, 0, 1, 0, 1, 0, 1, ...</td>\n",
       "      <td>[1, 0, 1, 0, 1, 0, 1, 0, 1, 0, 1, 0, 1, 0, 1, ...</td>\n",
       "      <td>[1, 0, 1, 0, 1, 0, 1, 0, 1, 0, 1, 0, 1, 0, 1, ...</td>\n",
       "      <td>[1, 0, 1, 0, 1, 0, 1, 0, 1, 0, 1, 0, 1, 0, 1, ...</td>\n",
       "      <td>[1, 0, 1, 0, 1, 0, 1, 0, 1, 0, 1, 0, 1, 0, 1, ...</td>\n",
       "      <td>[1, 0, 1, 0, 1, 0, 1, 0, 1, 0, 1, 0, 1, 0, 1, ...</td>\n",
       "      <td>[1, 0, 1, 0, 1, 0, 1, 0, 1, 0, 1, 0, 1, 0, 1, ...</td>\n",
       "      <td>[1, 0, 1, 0, 1, 0, 1, 0, 1, 0, 1, 0, 1, 0, 1, ...</td>\n",
       "      <td>[1, 0, 1, 0, 1, 0, 1, 0, 1, 0, 1, 0, 1, 0, 1, ...</td>\n",
       "      <td>[1, 0, 1, 0, 1, 0, 1, 0, 1, 0, 1, 0, 1, 0, 1, ...</td>\n",
       "    </tr>\n",
       "  </tbody>\n",
       "</table>\n",
       "</div>"
      ],
      "text/plain": [
       "                                                 threshold_0.00  \\\n",
       "tp                                                          352   \n",
       "tn                                                            0   \n",
       "fp                                                          352   \n",
       "fn                                                            0   \n",
       "tpr                                                           1   \n",
       "fpr                                                           1   \n",
       "predicted_ys  [True, True, True, True, True, True, True, Tru...   \n",
       "true_ys       [1, 0, 1, 0, 1, 0, 1, 0, 1, 0, 1, 0, 1, 0, 1, ...   \n",
       "\n",
       "                                                 threshold_0.10  \\\n",
       "tp                                                          351   \n",
       "tn                                                          190   \n",
       "fp                                                          162   \n",
       "fn                                                            1   \n",
       "tpr                                                    0.997159   \n",
       "fpr                                                    0.460227   \n",
       "predicted_ys  [True, True, True, True, True, False, True, Tr...   \n",
       "true_ys       [1, 0, 1, 0, 1, 0, 1, 0, 1, 0, 1, 0, 1, 0, 1, ...   \n",
       "\n",
       "                                                 threshold_0.20  \\\n",
       "tp                                                          347   \n",
       "tn                                                          226   \n",
       "fp                                                          126   \n",
       "fn                                                            5   \n",
       "tpr                                                    0.985795   \n",
       "fpr                                                    0.357955   \n",
       "predicted_ys  [True, False, True, False, True, False, True, ...   \n",
       "true_ys       [1, 0, 1, 0, 1, 0, 1, 0, 1, 0, 1, 0, 1, 0, 1, ...   \n",
       "\n",
       "                                                 threshold_0.30  \\\n",
       "tp                                                          349   \n",
       "tn                                                          252   \n",
       "fp                                                          100   \n",
       "fn                                                            3   \n",
       "tpr                                                    0.991477   \n",
       "fpr                                                    0.284091   \n",
       "predicted_ys  [True, True, True, False, True, False, True, T...   \n",
       "true_ys       [1, 0, 1, 0, 1, 0, 1, 0, 1, 0, 1, 0, 1, 0, 1, ...   \n",
       "\n",
       "                                                 threshold_0.40  \\\n",
       "tp                                                          342   \n",
       "tn                                                          259   \n",
       "fp                                                           93   \n",
       "fn                                                           10   \n",
       "tpr                                                    0.971591   \n",
       "fpr                                                    0.264205   \n",
       "predicted_ys  [False, False, True, False, False, False, True...   \n",
       "true_ys       [1, 0, 1, 0, 1, 0, 1, 0, 1, 0, 1, 0, 1, 0, 1, ...   \n",
       "\n",
       "                                                 threshold_0.50  \\\n",
       "tp                                                          343   \n",
       "tn                                                          295   \n",
       "fp                                                           57   \n",
       "fn                                                            9   \n",
       "tpr                                                    0.974432   \n",
       "fpr                                                    0.161932   \n",
       "predicted_ys  [True, False, True, False, False, False, True,...   \n",
       "true_ys       [1, 0, 1, 0, 1, 0, 1, 0, 1, 0, 1, 0, 1, 0, 1, ...   \n",
       "\n",
       "                                                 threshold_0.60  \\\n",
       "tp                                                          342   \n",
       "tn                                                          295   \n",
       "fp                                                           57   \n",
       "fn                                                           10   \n",
       "tpr                                                    0.971591   \n",
       "fpr                                                    0.161932   \n",
       "predicted_ys  [True, False, True, False, True, False, True, ...   \n",
       "true_ys       [1, 0, 1, 0, 1, 0, 1, 0, 1, 0, 1, 0, 1, 0, 1, ...   \n",
       "\n",
       "                                                 threshold_0.70  \\\n",
       "tp                                                          333   \n",
       "tn                                                          303   \n",
       "fp                                                           49   \n",
       "fn                                                           19   \n",
       "tpr                                                    0.946023   \n",
       "fpr                                                    0.139205   \n",
       "predicted_ys  [True, True, True, False, True, False, True, F...   \n",
       "true_ys       [1, 0, 1, 0, 1, 0, 1, 0, 1, 0, 1, 0, 1, 0, 1, ...   \n",
       "\n",
       "                                                 threshold_0.80  \\\n",
       "tp                                                          336   \n",
       "tn                                                          316   \n",
       "fp                                                           36   \n",
       "fn                                                           16   \n",
       "tpr                                                    0.954545   \n",
       "fpr                                                    0.102273   \n",
       "predicted_ys  [True, True, True, False, True, False, True, F...   \n",
       "true_ys       [1, 0, 1, 0, 1, 0, 1, 0, 1, 0, 1, 0, 1, 0, 1, ...   \n",
       "\n",
       "                                                 threshold_0.90  \\\n",
       "tp                                                          307   \n",
       "tn                                                          327   \n",
       "fp                                                           25   \n",
       "fn                                                           45   \n",
       "tpr                                                    0.872159   \n",
       "fpr                                                   0.0710227   \n",
       "predicted_ys  [True, False, False, False, True, False, True,...   \n",
       "true_ys       [1, 0, 1, 0, 1, 0, 1, 0, 1, 0, 1, 0, 1, 0, 1, ...   \n",
       "\n",
       "                                                 threshold_1.00  \n",
       "tp                                                            0  \n",
       "tn                                                          352  \n",
       "fp                                                            0  \n",
       "fn                                                          352  \n",
       "tpr                                                           0  \n",
       "fpr                                                           0  \n",
       "predicted_ys  [False, False, False, False, False, False, Fal...  \n",
       "true_ys       [1, 0, 1, 0, 1, 0, 1, 0, 1, 0, 1, 0, 1, 0, 1, ...  "
      ]
     },
     "execution_count": 63,
     "metadata": {},
     "output_type": "execute_result"
    }
   ],
   "source": [
    "train_truth_outputs = Evaluation.evaluation_dataframe(thresholds, train_loader, model)\n",
    "train_truth_outputs.reindex(['tp', 'tn', 'fp', 'fn', 'tpr', 'fpr', 'predicted_ys', 'true_ys'])"
   ]
  },
  {
   "cell_type": "code",
   "execution_count": 64,
   "metadata": {},
   "outputs": [],
   "source": [
    "train_truth_outputs.to_pickle('train_truth_outputs.pkl')"
   ]
  },
  {
   "cell_type": "code",
   "execution_count": 65,
   "metadata": {},
   "outputs": [
    {
     "name": "stdout",
     "output_type": "stream",
     "text": [
      "xxxx\n"
     ]
    },
    {
     "data": {
      "image/png": "[encoded data removed]",
      "text/plain": [
       "<Figure size 450x450 with 1 Axes>"
      ]
     },
     "metadata": {},
     "output_type": "display_data"
    }
   ],
   "source": [
    "Evaluation.plot_ROC(train_truth_outputs, 'Train', 'g')"
   ]
  },
  {
   "cell_type": "markdown",
   "metadata": {},
   "source": [
    "## Confusion matrix, F1-score"
   ]
  },
  {
   "cell_type": "code",
   "execution_count": 66,
   "metadata": {},
   "outputs": [
    {
     "name": "stdout",
     "output_type": "stream",
     "text": [
      "Test recall: 0.9744, Precision: 0.8575, F1 Score: 0.9122\n"
     ]
    },
    {
     "data": {
      "image/png": "[encoded data removed]",
      "text/plain": [
       "<Figure size 500x500 with 2 Axes>"
      ]
     },
     "metadata": {},
     "output_type": "display_data"
    }
   ],
   "source": [
    "Evaluation.plot_confusion_matrix(train_truth_outputs, 'Train', 'Greens')"
   ]
  },
  {
   "cell_type": "code",
   "execution_count": 67,
   "metadata": {},
   "outputs": [
    {
     "name": "stdout",
     "output_type": "stream",
     "text": [
      "Test recall: 0.9474, Precision: 0.8257, F1 Score: 0.8824\n"
     ]
    },
    {
     "data": {
      "image/png": "[encoded data removed]",
      "text/plain": [
       "<Figure size 500x500 with 2 Axes>"
      ]
     },
     "metadata": {},
     "output_type": "display_data"
    }
   ],
   "source": [
    "Evaluation.plot_confusion_matrix(test_truth_outputs, 'Test', 'Oranges')"
   ]
  },
  {
   "cell_type": "code",
   "execution_count": null,
   "metadata": {},
   "outputs": [],
   "source": []
  }
 ],
 "metadata": {
  "kernelspec": {
   "display_name": "Python 3",
   "language": "python",
   "name": "python3"
  },
  "language_info": {
   "codemirror_mode": {
    "name": "ipython",
    "version": 3
   },
   "file_extension": ".py",
   "mimetype": "text/x-python",
   "name": "python",
   "nbconvert_exporter": "python",
   "pygments_lexer": "ipython3",
   "version": "3.6.10"
  }
 },
 "nbformat": 4,
 "nbformat_minor": 2
}
